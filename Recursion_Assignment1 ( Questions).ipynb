{
 "cells": [
  {
   "cell_type": "markdown",
   "metadata": {},
   "source": [
    "**Q.1) Which is the most appropriate definition for recursion?** \n",
    "    \n",
    "    a) A function that calls itself** \n",
    "    b) A function execution instance that calls another execution instance of the same function \n",
    "    c) A class method that calls another class method \n",
    "    d) An in-built method that is automatically called "
   ]
  },
  {
   "cell_type": "code",
   "execution_count": null,
   "metadata": {},
   "outputs": [],
   "source": []
  },
  {
   "cell_type": "markdown",
   "metadata": {},
   "source": [
    "**Q.2) Only problems that are recursively defined can be solved using recursion.**\n",
    "\n",
    "    a) True\n",
    "    b) False"
   ]
  },
  {
   "cell_type": "code",
   "execution_count": null,
   "metadata": {},
   "outputs": [],
   "source": []
  },
  {
   "cell_type": "markdown",
   "metadata": {},
   "source": [
    "**Q.3) Which of these is false about recursion?**\n",
    "\n",
    "    a) Recursive function can be replaced by a non-recursive function\n",
    "    b) Recursive functions usually take more memory space than non-recursive function\n",
    "    c) Recursive functions run faster than non-recursive function\n",
    "    d) Recursion makes programs easier to understand"
   ]
  },
  {
   "cell_type": "code",
   "execution_count": null,
   "metadata": {},
   "outputs": [],
   "source": []
  },
  {
   "cell_type": "markdown",
   "metadata": {},
   "source": [
    "**Q.4)  Fill in the line of the following Python code for calculating the factorial of a number.**\n",
    "\n",
    "    def fact(num):\n",
    "        if num == 0: \n",
    "            return 1\n",
    "        else:\n",
    "            return _____________________\n",
    "            \n",
    "            \n",
    "        a) num*fact(num-1)\n",
    "        b) (num-1)*(num-2)\n",
    "        c) num*(num-1)\n",
    "        d) fact(num)*fact(num-1)"
   ]
  },
  {
   "cell_type": "code",
   "execution_count": null,
   "metadata": {},
   "outputs": [],
   "source": []
  },
  {
   "cell_type": "markdown",
   "metadata": {},
   "source": [
    "**Q.5) What will be the output of the following Python code?**\n",
    "\n",
    "    def test(i,j):\n",
    "        if(i==0):\n",
    "            return j\n",
    "        else:\n",
    "            return test(i-1,i+j)\n",
    "    print(test(4,7))\n",
    "    \n",
    "        a) 13\n",
    "        b) 7\n",
    "        c) Infinite loop\n",
    "        d) 17"
   ]
  },
  {
   "cell_type": "code",
   "execution_count": null,
   "metadata": {},
   "outputs": [],
   "source": []
  },
  {
   "cell_type": "markdown",
   "metadata": {},
   "source": [
    "**Q.6) What will be the output of the following Python code?**\n",
    "\n",
    "            l=[]\n",
    "            def convert(b):\n",
    "                if(b==0):\n",
    "                    return l\n",
    "                dig=b%2\n",
    "                l.append(dig)\n",
    "                convert(b//2)\n",
    "            convert(6)\n",
    "            l.reverse()\n",
    "            for i in l:\n",
    "                print(i,end=\"\")\n",
    "                \n",
    "        a) 011\n",
    "        b) 110\n",
    "        c) 3\n",
    "        d) Infinite loop"
   ]
  },
  {
   "cell_type": "code",
   "execution_count": null,
   "metadata": {},
   "outputs": [],
   "source": []
  },
  {
   "cell_type": "markdown",
   "metadata": {},
   "source": [
    "**Q.7)  What is tail recursion?**\n",
    "\n",
    "        a) A recursive function that has two base cases\n",
    "        b) A function where the recursive functions leads to an infinite loop\n",
    "        c) A recursive function where the function doesn’t return anything and just prints the values\n",
    "        d) A function where the recursive call is the last thing executed by the function"
   ]
  },
  {
   "cell_type": "code",
   "execution_count": null,
   "metadata": {},
   "outputs": [],
   "source": []
  },
  {
   "cell_type": "markdown",
   "metadata": {},
   "source": [
    "**Q.8) Observe the following Python code?**\n",
    "\n",
    "            def a(n):\n",
    "                if n == 0:\n",
    "                    return 0\n",
    "                else:\n",
    "                    return n*a(n - 1)\n",
    "            def b(n, tot):\n",
    "                if n == 0:\n",
    "                    return tot\n",
    "                else:\n",
    "                    return b(n-2, tot-2)\n",
    "                    \n",
    "                 \n",
    "                 \n",
    "            a) Both a() and b() aren’t tail recursive\n",
    "            b) Both a() and b() are tail recursive\n",
    "            c) b() is tail recursive but a() isn’t\n",
    "            d) a() is tail recursive but b() isn’t"
   ]
  },
  {
   "cell_type": "code",
   "execution_count": null,
   "metadata": {},
   "outputs": [],
   "source": []
  },
  {
   "cell_type": "markdown",
   "metadata": {},
   "source": [
    "**Q.9) Which of the following statements is false about recursion?**\n",
    "\n",
    "        a) Every recursive function must have a base case\n",
    "        b) Infinite recursion can occur if the base case isn’t properly mentioned\n",
    "        c) A recursive function makes the code easier to understand\n",
    "        d) Every recursive function must have a return value"
   ]
  },
  {
   "cell_type": "code",
   "execution_count": null,
   "metadata": {},
   "outputs": [],
   "source": []
  },
  {
   "cell_type": "markdown",
   "metadata": {},
   "source": [
    "**Q.10) What will be the output of the following Python code?**\n",
    "\n",
    "            def fun(n):\n",
    "                if (n > 100):\n",
    "                    return n - 5\n",
    "                return fun(fun(n+11));\n",
    "\n",
    "            print(fun(45))\n",
    "            \n",
    "            \n",
    "            \n",
    "            a) 50\n",
    "            b) 100\n",
    "            c) 74\n",
    "            d) Infinite loop"
   ]
  },
  {
   "cell_type": "code",
   "execution_count": null,
   "metadata": {},
   "outputs": [],
   "source": []
  },
  {
   "cell_type": "markdown",
   "metadata": {},
   "source": [
    "**Q.11) Recursion and iteration are the same programming approach.**\n",
    "\n",
    "        a) True\n",
    "        b) False"
   ]
  },
  {
   "cell_type": "code",
   "execution_count": null,
   "metadata": {},
   "outputs": [],
   "source": []
  },
  {
   "cell_type": "markdown",
   "metadata": {},
   "source": [
    "**Q.12) What happens if the base condition isn’t defined in recursive programs?**\n",
    "\n",
    "        a) Program gets into an infinite loop\n",
    "        b) Program runs once\n",
    "        c) Program runs n number of times where n is the argument given to the function\n",
    "        d) An exception is thrown"
   ]
  },
  {
   "cell_type": "code",
   "execution_count": null,
   "metadata": {},
   "outputs": [],
   "source": []
  },
  {
   "cell_type": "markdown",
   "metadata": {},
   "source": [
    "**Q.13)  Which of these is not true about recursion?**\n",
    "\n",
    "        a) Making the code look clean\n",
    "        b) A complex task can be broken into sub-problems\n",
    "        c) Recursive calls take up less memory\n",
    "        d) Sequence generation is easier than a nested iteration"
   ]
  },
  {
   "cell_type": "code",
   "execution_count": null,
   "metadata": {},
   "outputs": [],
   "source": []
  },
  {
   "cell_type": "markdown",
   "metadata": {},
   "source": [
    "**Q.14) Which of these is not true about recursion?**\n",
    "\n",
    "        a) It’s easier to code some real-world problems using recursion than non-recursive equivalent\n",
    "        b) Recursive functions are easy to debug\n",
    "        c) Recursive calls take up a lot of memory\n",
    "        d) Programs using recursion take longer time than their non-recursive equivalent"
   ]
  },
  {
   "cell_type": "code",
   "execution_count": null,
   "metadata": {},
   "outputs": [],
   "source": []
  },
  {
   "cell_type": "markdown",
   "metadata": {},
   "source": [
    "**Q.15)  What will be the output of the following Python code?**\n",
    "\n",
    "        def a(n):\n",
    "            if n == 0:\n",
    "                return 0\n",
    "            elif n == 1:\n",
    "                return 1\n",
    "            else:\n",
    "                return a(n-1)+a(n-2)\n",
    "        for i in range(0,4):\n",
    "            print(a(i),end=\" \")\n",
    "            \n",
    "         \n",
    "        a) 0 1 2 3\n",
    "        b) An exception is thrown\n",
    "        c) 0 1 1 2 3\n",
    "        d) 0 1 1 2"
   ]
  },
  {
   "cell_type": "code",
   "execution_count": null,
   "metadata": {},
   "outputs": [],
   "source": []
  }
 ],
 "metadata": {
  "kernelspec": {
   "display_name": "Python 3",
   "language": "python",
   "name": "python3"
  },
  "language_info": {
   "codemirror_mode": {
    "name": "ipython",
    "version": 3
   },
   "file_extension": ".py",
   "mimetype": "text/x-python",
   "name": "python",
   "nbconvert_exporter": "python",
   "pygments_lexer": "ipython3",
   "version": "3.7.6"
  }
 },
 "nbformat": 4,
 "nbformat_minor": 4
}
