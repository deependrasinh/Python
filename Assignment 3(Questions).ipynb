{
 "cells": [
  {
   "cell_type": "markdown",
   "metadata": {},
   "source": [
    "**Q.1) What is PEP-8?**\n",
    "\n",
    "**Q.2) What is pickling and unpickling?**\n",
    "\n",
    "**Q.3) What are the tools that help to find bugs or perform static analysis?**\n",
    "\n",
    "**Q.4) What are iterators in python?**\n",
    "\n",
    "**Q.5) What are generators in python?**\n",
    "\n",
    "**Q.6) What is module and package in Python**\n",
    "\n",
    "**Q.7) Explain how can you make a Python Script executable on Unix?**\n",
    "\n",
    "**Q.8) Explain what is Flask & its benefits?**\n",
    "\n",
    "**Q.9) Mention what is the difference between Django, Pyramid, and Flask?**\n",
    "\n",
    "**Q.10) Mention what is Flask-WTF and what are their features?**\n",
    "\n",
    "**Q.11) Explain what is the common way for the Flask script to work?**\n",
    "\n",
    "**Q.12) Explain how you can access sessions in Flask?**\n",
    "\n",
    "**Q.13) Is Flask an MVC model and if yes give an example showing MVC pattern for your application?**\n"
   ]
  }
 ],
 "metadata": {
  "kernelspec": {
   "display_name": "Python 3",
   "language": "python",
   "name": "python3"
  },
  "language_info": {
   "codemirror_mode": {
    "name": "ipython",
    "version": 3
   },
   "file_extension": ".py",
   "mimetype": "text/x-python",
   "name": "python",
   "nbconvert_exporter": "python",
   "pygments_lexer": "ipython3",
   "version": "3.7.6"
  }
 },
 "nbformat": 4,
 "nbformat_minor": 4
}
