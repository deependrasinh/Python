{
 "cells": [
  {
   "cell_type": "code",
   "execution_count": 3,
   "metadata": {},
   "outputs": [],
   "source": [
    "d = {'city':'jaipur','state':'rajasthan','temp':'20C','description':'cloudy'}"
   ]
  },
  {
   "cell_type": "code",
   "execution_count": 7,
   "metadata": {},
   "outputs": [
    {
     "name": "stdout",
     "output_type": "stream",
     "text": [
      "Enter any key : temp\n",
      "The value of temp is 20C\n"
     ]
    }
   ],
   "source": [
    "#if the key exist then it will print its value otherwise it will make a new key will value default\n",
    "\n",
    "key = input(\"Enter any key : \").strip().lower()\n",
    "if d.get(key):\n",
    "    print(f\"The value of {key} is {d[key]}\")\n",
    "else:\n",
    "    d.setdefault(key,\"Default\")"
   ]
  },
  {
   "cell_type": "markdown",
   "metadata": {},
   "source": [
    "#### Make a dictionary that will consists of multiple cities and their descriptions\n",
    "    The user will input the name of the city then it will input the feature and you have to print \n",
    "    it's value"
   ]
  },
  {
   "cell_type": "code",
   "execution_count": 10,
   "metadata": {},
   "outputs": [
    {
     "name": "stdout",
     "output_type": "stream",
     "text": [
      "Enter any number : 12\n",
      "12 is positive...\n"
     ]
    }
   ],
   "source": [
    "n = int(input(\"Enter any number : \"))\n",
    "if n>0:\n",
    "    print(f\"{n} is positive...\")\n",
    "else:\n",
    "    print(f\"{n} is negative...\")"
   ]
  },
  {
   "cell_type": "code",
   "execution_count": 14,
   "metadata": {},
   "outputs": [
    {
     "name": "stdout",
     "output_type": "stream",
     "text": [
      "Enter any number : -90\n",
      "-90 is negative...\n"
     ]
    }
   ],
   "source": [
    "n = int(input(\"Enter any number : \"))\n",
    "if n>0:\n",
    "    print(f\"{n} is positive...\")\n",
    "elif n==0:\n",
    "    print(f\"{n} is zero...\")\n",
    "else:\n",
    "    print(f\"{n} is negative...\")"
   ]
  },
  {
   "cell_type": "code",
   "execution_count": 15,
   "metadata": {},
   "outputs": [],
   "source": [
    "##each if block can consists of multiple elif"
   ]
  },
  {
   "cell_type": "code",
   "execution_count": 16,
   "metadata": {},
   "outputs": [],
   "source": [
    "d = ['Jan','Feb','Mar','April','May','June','July','Aug','Sep','Oct','Nov','Dec']"
   ]
  },
  {
   "cell_type": "code",
   "execution_count": 17,
   "metadata": {},
   "outputs": [
    {
     "data": {
      "text/plain": [
       "12"
      ]
     },
     "execution_count": 17,
     "metadata": {},
     "output_type": "execute_result"
    }
   ],
   "source": [
    "len(d)"
   ]
  },
  {
   "cell_type": "code",
   "execution_count": 20,
   "metadata": {},
   "outputs": [
    {
     "name": "stdout",
     "output_type": "stream",
     "text": [
      "Enter the number of month : 13\n",
      "No such month....\n"
     ]
    }
   ],
   "source": [
    "n = int(input(\"Enter the number of month : \"))\n",
    "if n==1:\n",
    "    print(\"The month is : \", d[0])\n",
    "elif n==2:\n",
    "    print(\"The month is : \", d[1])\n",
    "elif n==3:\n",
    "    print(\"The month is : \", d[2])\n",
    "elif n==4:\n",
    "    print(\"The month is : \", d[3])\n",
    "elif n==5:\n",
    "    print(\"The month is : \", d[4])\n",
    "elif n==6:\n",
    "    print(\"The month is : \", d[5])\n",
    "elif n==7:\n",
    "    print(\"The month is : \", d[6])\n",
    "elif n==8:\n",
    "    print(\"The month is : \", d[7])\n",
    "elif n==9:\n",
    "    print(\"The month is : \", d[8])\n",
    "elif n==10:\n",
    "    print(\"The month is : \", d[9])\n",
    "elif n==11:\n",
    "    print(\"The month is : \", d[10])\n",
    "elif n==12:\n",
    "    print(\"The month is : \", d[11])\n",
    "else:\n",
    "    print(\"No such month....\")"
   ]
  },
  {
   "cell_type": "code",
   "execution_count": 21,
   "metadata": {},
   "outputs": [],
   "source": [
    "month = {1:'January',2:'Febraury',3:'March',4:'April',5:'May',6:'June',7:'July',8:'August',9:'September',\n",
    "        10:'October',11:'November',12:'December'}"
   ]
  },
  {
   "cell_type": "code",
   "execution_count": 24,
   "metadata": {},
   "outputs": [
    {
     "name": "stdout",
     "output_type": "stream",
     "text": [
      "ENter the number of month : 13\n",
      "No such month...\n"
     ]
    }
   ],
   "source": [
    "n = int(input(\"ENter the number of month : \"))\n",
    "if month.get(n):\n",
    "    print(\"The month is : \", month[n])\n",
    "else:\n",
    "    print(\"No such month...\")"
   ]
  },
  {
   "cell_type": "code",
   "execution_count": 25,
   "metadata": {},
   "outputs": [],
   "source": [
    "#Loan--> private,govt,business\n",
    "#private--> salary --> 50000--> loan \n",
    "#govt --> salary --> 60000 --> loan\n",
    "#business --> turnover --> 10 lakh --> loan"
   ]
  },
  {
   "cell_type": "code",
   "execution_count": 28,
   "metadata": {},
   "outputs": [
    {
     "name": "stdout",
     "output_type": "stream",
     "text": [
      "\n",
      "1. Private\n",
      "2. Government\n",
      "3. Business\n",
      "Enter the sector from above mentioned(1/2/3) :  1\n",
      "*********************Welcome to Our Loan Facility*********************\n",
      "\n",
      "Enter Your salary per month : 12000\n",
      "\n",
      " Sorry!!! You can't have loan\n"
     ]
    }
   ],
   "source": [
    "print(\"\\n1. Private\\n2. Government\\n3. Business\")\n",
    "sector = int(input(\"Enter the sector from above mentioned(1/2/3) :  \"))\n",
    "print(\"Welcome to Our Loan Facility\".center(70,\"*\"))\n",
    "if sector == 1:\n",
    "    sal = int(input(\"\\nEnter Your salary per month : \"))\n",
    "    if sal >= 50000:\n",
    "        print(\"\\nCongrats!!! You are eligible for loan\")\n",
    "    else:\n",
    "        print(\"\\n Sorry!!! You can't have loan\")\n",
    "elif sector == 2:\n",
    "    sal = int(input(\"\\nEnter Your salary per month : \"))\n",
    "    if sal >= 60000:\n",
    "        print(\"\\nCongrats!!! You are eligible for loan\")\n",
    "    else:\n",
    "        print(\"\\n Sorry!!! You can't have loan\")\n",
    "elif sector == 3:\n",
    "    turnover = int(input(\"\\n Enter your turnover in lakhs : \"))\n",
    "    if turnover >= 10:\n",
    "        print(\"Congrats!!! You are eligible for loan\")\n",
    "    else:\n",
    "        print(\"\\n Sorry!!! You are not eligible for loan\")\n",
    "else:\n",
    "    print(\"\\n No such sector mentioned....\")"
   ]
  },
  {
   "cell_type": "code",
   "execution_count": 29,
   "metadata": {},
   "outputs": [
    {
     "name": "stdout",
     "output_type": "stream",
     "text": [
      "Hello world\n",
      "None\n",
      "ojij\n",
      "Great\n"
     ]
    }
   ],
   "source": [
    "print(\"Hello\") if print(print(\"Hello world\")) else print(\"Great\") if input() else print(\"Fool\")"
   ]
  },
  {
   "cell_type": "code",
   "execution_count": 31,
   "metadata": {},
   "outputs": [
    {
     "name": "stdout",
     "output_type": "stream",
     "text": [
      "Hello world\n",
      "None\n",
      "oijfoiojfi\n",
      "Great\n"
     ]
    }
   ],
   "source": [
    "if print(print(\"Hello world\")):\n",
    "    print(\"Hello\")\n",
    "else:\n",
    "    if input():\n",
    "        print(\"Great\")\n",
    "    else:\n",
    "        print(\"Fool\")"
   ]
  },
  {
   "cell_type": "code",
   "execution_count": 37,
   "metadata": {},
   "outputs": [
    {
     "name": "stdout",
     "output_type": "stream",
     "text": [
      "Enter your salary : 11000\n",
      "\n",
      " Great... You can go for shopping.....\n"
     ]
    }
   ],
   "source": [
    "salary = int(input(\"Enter your salary : \"))\n",
    "if salary==10000:\n",
    "    print(\"\\nYou can go for movie....\")\n",
    "elif 10000<salary<25000:\n",
    "    print(\"\\n Great... You can go for shopping.....\")\n",
    "elif salary>=25000:\n",
    "    print(\"\\n Wonderful.. You can go on a trip....\")\n",
    "else:\n",
    "    print(\"\\n You can sleep at home and enjoy on netflix....\")"
   ]
  },
  {
   "cell_type": "code",
   "execution_count": 41,
   "metadata": {},
   "outputs": [
    {
     "name": "stdout",
     "output_type": "stream",
     "text": [
      "Enter any number : 34\n",
      "Enter another number : 23\n",
      "The greatest number is 'a' 34\n"
     ]
    }
   ],
   "source": [
    "##Greatest number among two numbers\n",
    "\n",
    "a = int(input(\"Enter any number : \"))\n",
    "b = int(input(\"Enter another number : \"))\n",
    "if a>b:\n",
    "    print(f\"The greatest number is 'a' {a}\")\n",
    "else:\n",
    "    print(f\"The greatest number is 'b' {b}\")\n",
    "    "
   ]
  },
  {
   "cell_type": "code",
   "execution_count": 44,
   "metadata": {},
   "outputs": [
    {
     "name": "stdout",
     "output_type": "stream",
     "text": [
      "Enter first number : 12\n",
      "Enter second number : 1\n",
      "Enter third number : 2\n",
      "12 'a' is greater\n"
     ]
    }
   ],
   "source": [
    "#greater among three numbers\n",
    "\n",
    "a = int(input(\"Enter first number : \"))\n",
    "b = int(input(\"Enter second number : \"))\n",
    "c = int(input(\"Enter third number : \"))\n",
    "if a>b and a>c:   #if one condition get false that means either b is greater or c is greater\n",
    "    print(f\"{a} 'a' is greater\")\n",
    "elif b>c:\n",
    "    print(f\"{b} 'b' is greater\")\n",
    "else:\n",
    "    print(f\"{c} 'c' is greater\")"
   ]
  },
  {
   "cell_type": "markdown",
   "metadata": {},
   "source": [
    "### Do the above program without using and operator"
   ]
  },
  {
   "cell_type": "markdown",
   "metadata": {},
   "source": [
    "    The else will always follow the nearest if"
   ]
  },
  {
   "cell_type": "code",
   "execution_count": 48,
   "metadata": {},
   "outputs": [
    {
     "name": "stdout",
     "output_type": "stream",
     "text": [
      "{1: 'January', 2: 'Febraury', 3: 'March', 4: 'April', 5: 'May', 6: 'June', 7: 'July', 8: 'August', 9: 'September', 10: 'October', 11: 'November', 12: 'December'}\n"
     ]
    }
   ],
   "source": [
    "print(month)"
   ]
  },
  {
   "cell_type": "code",
   "execution_count": 51,
   "metadata": {},
   "outputs": [
    {
     "name": "stdout",
     "output_type": "stream",
     "text": [
      "13\n",
      "Get lost...\n"
     ]
    }
   ],
   "source": [
    "n = int(input())\n",
    "if month.get(n):   #month.get(5)  #if 'may':\n",
    "    if n<10:   #5<10\n",
    "        print(\"Great...Month is : \", month[n])\n",
    "    else:\n",
    "        print(\"Not Great\")\n",
    "if 10<=n<=12:   #5>=10\n",
    "    print(\"Welcome...\")\n",
    "    print(\"You have a value : \", month[n])  #Welcome \n",
    "    #You have a value None\n",
    "else:\n",
    "    print(\"Get lost...\")"
   ]
  },
  {
   "cell_type": "code",
   "execution_count": 52,
   "metadata": {},
   "outputs": [
    {
     "name": "stdout",
     "output_type": "stream",
     "text": [
      "['__class__', '__contains__', '__delattr__', '__delitem__', '__dir__', '__doc__', '__eq__', '__format__', '__ge__', '__getattribute__', '__getitem__', '__gt__', '__hash__', '__init__', '__init_subclass__', '__iter__', '__le__', '__len__', '__lt__', '__ne__', '__new__', '__reduce__', '__reduce_ex__', '__repr__', '__setattr__', '__setitem__', '__sizeof__', '__str__', '__subclasshook__', 'clear', 'copy', 'fromkeys', 'get', 'items', 'keys', 'pop', 'popitem', 'setdefault', 'update', 'values']\n"
     ]
    }
   ],
   "source": [
    "print(dir(month))"
   ]
  },
  {
   "cell_type": "code",
   "execution_count": 53,
   "metadata": {},
   "outputs": [
    {
     "name": "stdout",
     "output_type": "stream",
     "text": [
      "{1: 'January', 2: 'Febraury', 3: 'March', 4: 'April', 5: 'May', 6: 'June', 7: 'July', 8: 'August', 9: 'September', 10: 'October', 11: 'November', 12: 'December'}\n"
     ]
    }
   ],
   "source": [
    "print(month)"
   ]
  },
  {
   "cell_type": "code",
   "execution_count": 54,
   "metadata": {},
   "outputs": [
    {
     "data": {
      "text/plain": [
       "dict_values(['January', 'Febraury', 'March', 'April', 'May', 'June', 'July', 'August', 'September', 'October', 'November', 'December'])"
      ]
     },
     "execution_count": 54,
     "metadata": {},
     "output_type": "execute_result"
    }
   ],
   "source": [
    "month.values()"
   ]
  },
  {
   "cell_type": "code",
   "execution_count": 58,
   "metadata": {},
   "outputs": [
    {
     "name": "stdout",
     "output_type": "stream",
     "text": [
      "joker\n",
      "Joker\n",
      "No such value\n",
      "I am great\n"
     ]
    }
   ],
   "source": [
    "m = input().strip().title() #input()  --> january\n",
    "print(m)\n",
    "if m in month.values():\n",
    "    print(\"Welcome...\")\n",
    "    if \"a\" in m:\n",
    "        print(\"Great....\")\n",
    "    else:\n",
    "        print(\"No great...\")\n",
    "    if \"r\" in m:\n",
    "        print(\"R for rose\")\n",
    "    else:\n",
    "        print(\"Nothing\")\n",
    "else:\n",
    "    print(\"No such value\")\n",
    "    \n",
    "if m.startswith(\"J\"):\n",
    "    print(\"I am great\")\n",
    "else:\n",
    "    print(\"I don't like J\")\n"
   ]
  },
  {
   "cell_type": "markdown",
   "metadata": {},
   "source": [
    "### Stone--Paper--Scissor\n",
    "\n",
    "\n",
    "        player1            player2             Win\n",
    "        \n",
    "        stone              paper               p2\n",
    "        paper              paper               tie\n",
    "        scissor            paper               p1\n",
    "        \n",
    "        stone              stone               tie\n",
    "        paper              stone               p1\n",
    "        scissor            stone               p2\n",
    "        \n",
    "        stone             scissor              p1\n",
    "        paper             scissor              p2\n",
    "        scissor           scissor              tie"
   ]
  },
  {
   "cell_type": "code",
   "execution_count": 60,
   "metadata": {},
   "outputs": [
    {
     "data": {
      "text/plain": [
       "True"
      ]
     },
     "execution_count": 60,
     "metadata": {},
     "output_type": "execute_result"
    }
   ],
   "source": [
    "all([True,True,True])"
   ]
  },
  {
   "cell_type": "code",
   "execution_count": 61,
   "metadata": {},
   "outputs": [
    {
     "data": {
      "text/plain": [
       "False"
      ]
     },
     "execution_count": 61,
     "metadata": {},
     "output_type": "execute_result"
    }
   ],
   "source": [
    "all([False,True,True])"
   ]
  },
  {
   "cell_type": "code",
   "execution_count": 62,
   "metadata": {},
   "outputs": [
    {
     "data": {
      "text/plain": [
       "True"
      ]
     },
     "execution_count": 62,
     "metadata": {},
     "output_type": "execute_result"
    }
   ],
   "source": [
    "any([True,False,False,False])"
   ]
  },
  {
   "cell_type": "code",
   "execution_count": 67,
   "metadata": {},
   "outputs": [
    {
     "name": "stdout",
     "output_type": "stream",
     "text": [
      "******************************Play Game*******************************\n",
      "\n",
      "                         Stone-Paper-Scissor                          \n",
      "\n",
      "\n",
      " Player1 Enter your choice : paper\n",
      "\n",
      " Player2 Enter your choice : paper\n",
      "\n",
      " Tie...\n"
     ]
    }
   ],
   "source": [
    "print(\"Play Game\".center(70,\"*\"))\n",
    "print()\n",
    "print(\"Stone-Paper-Scissor\".center(70))\n",
    "print()\n",
    "choice = ['stone', 'paper', 'scissor']\n",
    "p1 = input(\"\\n Player1 Enter your choice : \").strip().lower()\n",
    "p2 = input(\"\\n Player2 Enter your choice : \").strip().lower()\n",
    "\n",
    "p1_win = [ p1 == \"scissor\" and p2 == \"paper\",\n",
    "    p1 == \"paper\" and p2 == \"stone\",\n",
    "    p1 == \"stone\" and p2 == \"scissor\",\n",
    "]\n",
    "#p1_win = [True,True,True]\n",
    "\n",
    "if p1 in choice and p2 in choice:\n",
    "    if any(p1_win):\n",
    "        print(\"\\n Congrats Player1 won the game....\")\n",
    "    elif p1 == p2:\n",
    "        print(\"\\n Tie...\")\n",
    "    else:\n",
    "        print(\"\\n Congrats Player2 won the game....\")\n",
    "    \n",
    "else:\n",
    "    print(\"\\n No such choice available....\")"
   ]
  },
  {
   "cell_type": "code",
   "execution_count": 68,
   "metadata": {},
   "outputs": [],
   "source": [
    "import random "
   ]
  },
  {
   "cell_type": "code",
   "execution_count": 73,
   "metadata": {},
   "outputs": [
    {
     "data": {
      "text/plain": [
       "'paper'"
      ]
     },
     "execution_count": 73,
     "metadata": {},
     "output_type": "execute_result"
    }
   ],
   "source": [
    "random.choice([\"stone\",\"paper\",\"scissor\"])"
   ]
  },
  {
   "cell_type": "code",
   "execution_count": 78,
   "metadata": {},
   "outputs": [
    {
     "name": "stdout",
     "output_type": "stream",
     "text": [
      "******************************Play Game*******************************\n",
      "\n",
      "                         Stone-Paper-Scissor                          \n",
      "\n",
      "\n",
      " Player Enter your choice : stone\n",
      "\n",
      " Player : stone and Computer : scissor\n",
      "\n",
      " Congrats Player won the game....\n"
     ]
    }
   ],
   "source": [
    "##Play with computer\n",
    "\n",
    "print(\"Play Game\".center(70,\"*\"))\n",
    "print()\n",
    "print(\"Stone-Paper-Scissor\".center(70))\n",
    "print()\n",
    "choice = ['stone', 'paper', 'scissor']\n",
    "p = input(\"\\n Player Enter your choice : \").strip().lower()\n",
    "comp = random.choice([\"stone\",\"paper\",\"scissor\"])\n",
    "\n",
    "p_win = [ p == \"scissor\" and comp == \"paper\",\n",
    "    p == \"paper\" and comp == \"stone\",\n",
    "    p == \"stone\" and comp == \"scissor\",\n",
    "]\n",
    "#p1_win = [True,True,True]\n",
    "\n",
    "if p in choice and comp in choice:\n",
    "    if any(p_win):\n",
    "        print(f\"\\n Player : {p} and Computer : {comp}\")\n",
    "        print(\"\\n Congrats Player won the game....\")\n",
    "    elif p == comp:\n",
    "        print(f\"\\n Player : {p} and Computer : {comp}\")\n",
    "        print(\"\\n Tie...\")\n",
    "    else:\n",
    "        print(f\"\\n Player : {p} and Computer : {comp}\")\n",
    "        print(\"\\n Congrats Computer won the game....\")\n",
    "    \n",
    "else:\n",
    "    print(\"\\n No such choice available....\")"
   ]
  },
  {
   "cell_type": "markdown",
   "metadata": {},
   "source": [
    "## Complete questions of if-else form hackerrank and data type questions\n",
    "\n",
    "## Write an algorithm for ATM Machine"
   ]
  },
  {
   "cell_type": "code",
   "execution_count": null,
   "metadata": {},
   "outputs": [],
   "source": []
  }
 ],
 "metadata": {
  "kernelspec": {
   "display_name": "Python 3",
   "language": "python",
   "name": "python3"
  },
  "language_info": {
   "codemirror_mode": {
    "name": "ipython",
    "version": 3
   },
   "file_extension": ".py",
   "mimetype": "text/x-python",
   "name": "python",
   "nbconvert_exporter": "python",
   "pygments_lexer": "ipython3",
   "version": "3.7.4"
  }
 },
 "nbformat": 4,
 "nbformat_minor": 2
}
