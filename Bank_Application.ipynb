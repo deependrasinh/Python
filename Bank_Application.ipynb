{
 "cells": [
  {
   "cell_type": "markdown",
   "metadata": {},
   "source": [
    "### Bank Application"
   ]
  },
  {
   "cell_type": "code",
   "execution_count": 25,
   "metadata": {},
   "outputs": [],
   "source": [
    "bank = {\n",
    "    1001 : ['Simran',10000,'passwd'],\n",
    "    1002 : ['Shubham',20000,'admin'],\n",
    "    1003 : ['Aman',15000,'aman'],\n",
    "    1004 : ['Ambika',25000,'passpass'],\n",
    "    1005 : ['Koashal',22000,'gupta']\n",
    "}"
   ]
  },
  {
   "cell_type": "code",
   "execution_count": 2,
   "metadata": {},
   "outputs": [
    {
     "data": {
      "text/plain": [
       "{1001: ['Simran', 10000, 'passwd'],\n",
       " 1002: ['Shubham', 20000, 'admin'],\n",
       " 1003: ['Aman', 15000, 'aman'],\n",
       " 1004: ['Ambika', 25000, 'passpass'],\n",
       " 1005: ['Koashal', 22000, 'gupta']}"
      ]
     },
     "execution_count": 2,
     "metadata": {},
     "output_type": "execute_result"
    }
   ],
   "source": [
    "bank"
   ]
  },
  {
   "cell_type": "markdown",
   "metadata": {},
   "source": [
    "                                            \n",
    "                          1. Login             2. Signup            3. Exit        4. Forgot Password    5. Admin \n",
    "                    1.password               #Add new customer                                               1. Login\n",
    "                    2.AccountNo.                                                                               Check Details\n",
    "                       1.Credit\n",
    "                       2. Debit\n",
    "                       3. Change password\n",
    "                       4. Check your details\n",
    "                       5. Logout"
   ]
  },
  {
   "cell_type": "code",
   "execution_count": 16,
   "metadata": {},
   "outputs": [
    {
     "data": {
      "text/plain": [
       "{1001: ['Simran', 9700.0, 'admin'],\n",
       " 1002: ['Shubham', 20000, 'admin'],\n",
       " 1003: ['Aman', 15000, 'aman'],\n",
       " 1004: ['Ambika', 25000, 'passpass'],\n",
       " 1005: ['Koashal', 22000, 'gupta']}"
      ]
     },
     "execution_count": 16,
     "metadata": {},
     "output_type": "execute_result"
    }
   ],
   "source": [
    "bank[accno]"
   ]
  },
  {
   "cell_type": "code",
   "execution_count": 4,
   "metadata": {},
   "outputs": [
    {
     "data": {
      "text/plain": [
       "['Simran', 10000, 'passwd']"
      ]
     },
     "execution_count": 4,
     "metadata": {},
     "output_type": "execute_result"
    }
   ],
   "source": [
    "bank[1001]"
   ]
  },
  {
   "cell_type": "code",
   "execution_count": 5,
   "metadata": {},
   "outputs": [
    {
     "data": {
      "text/plain": [
       "['Shubham', 20000, 'admin']"
      ]
     },
     "execution_count": 5,
     "metadata": {},
     "output_type": "execute_result"
    }
   ],
   "source": [
    "bank[1002]"
   ]
  },
  {
   "cell_type": "code",
   "execution_count": 7,
   "metadata": {},
   "outputs": [
    {
     "data": {
      "text/plain": [
       "True"
      ]
     },
     "execution_count": 7,
     "metadata": {},
     "output_type": "execute_result"
    }
   ],
   "source": [
    "\"Simran\" in bank[1001]"
   ]
  },
  {
   "cell_type": "code",
   "execution_count": 8,
   "metadata": {},
   "outputs": [
    {
     "data": {
      "text/plain": [
       "False"
      ]
     },
     "execution_count": 8,
     "metadata": {},
     "output_type": "execute_result"
    }
   ],
   "source": [
    "\"Simran\" == bank[1001][-1]"
   ]
  },
  {
   "cell_type": "code",
   "execution_count": 21,
   "metadata": {},
   "outputs": [],
   "source": [
    "k = list(bank.keys())"
   ]
  },
  {
   "cell_type": "code",
   "execution_count": 22,
   "metadata": {},
   "outputs": [
    {
     "data": {
      "text/plain": [
       "1005"
      ]
     },
     "execution_count": 22,
     "metadata": {},
     "output_type": "execute_result"
    }
   ],
   "source": [
    "k[-1]"
   ]
  },
  {
   "cell_type": "code",
   "execution_count": 26,
   "metadata": {},
   "outputs": [
    {
     "name": "stdout",
     "output_type": "stream",
     "text": [
      "***************************BANK APPLICATION***************************\n",
      "\n",
      "1.\t Login\n",
      "2.\t Signup\n",
      "3.\t Admin Login\n",
      "4.\t Forgot Password\n",
      "Enter your choice among the above mentioned : 2\n",
      "\n",
      " Enter your name : Rajeev\n",
      "\n",
      " Enter your current balance : 12000\n",
      "\n",
      " Enter your password : mypass\n",
      "\n",
      " Enter your password again : mypass\n",
      "\n",
      "Your details has been added.....\n"
     ]
    }
   ],
   "source": [
    "print(\"Bank Application\".upper().center(70,\"*\"))\n",
    "print(\"\\n1.\\t Login\\n2.\\t Signup\\n3.\\t Admin Login\\n4.\\t Forgot Password\")\n",
    "ch = int(input(\"Enter your choice among the above mentioned : \"))\n",
    "if ch == 1:\n",
    "    print(\"\\n******Welcome to Login Section******\")\n",
    "    accno = int(input(\"\\n Enter your account number : \"))\n",
    "    if accno in bank.keys():\n",
    "        password = input(\"\\n Enter your password : \")\n",
    "        if password == bank[accno][-1]:\n",
    "            while True:\n",
    "                print(\"\\n1.\\tCredit\\n2.\\tDebit\\n3.\\tChange Password\\n4.\\tDetails\\n5.\\tLogout\")\n",
    "                ch = int(input(\"\\n Enter your choice among above : \"))\n",
    "                if ch == 1:\n",
    "                    amt = float(input(\"\\nEnter the amount that you want to credit : \"))\n",
    "                    bank[accno][1] += amt\n",
    "                    print(\"\\n Done Successfully !!!!!\".upper())\n",
    "                elif ch == 2:\n",
    "                    amt = float(input(\"\\nEnter the amount that you want to Debit : \"))\n",
    "                    if amt<= bank[accno][1]:\n",
    "                        bank[accno][1 ] -= amt\n",
    "                        print(\"\\n Done Successfully !!!\".upper())\n",
    "                    else:\n",
    "                        print(\"\\n Not Enough balance\".title())\n",
    "                elif ch == 3:\n",
    "                    newpassword = input(\"\\nEnter your new password : \")\n",
    "                    bank[accno][-1] = newpassword\n",
    "                elif ch == 4:\n",
    "                    print(\"-\"*70)\n",
    "                    print(\"Your Details\".center(70))\n",
    "                    print(\"\\n Accno : \", accno)\n",
    "                    print(\"\\n Name : \", bank[accno][0])\n",
    "                    print(\"\\n Balance : \", bank[accno][1])\n",
    "                    print(\"\\n Password : \", bank[accno][2])\n",
    "                    print(\"-\"*70)\n",
    "                elif ch == 5:\n",
    "                    print(\"\\n Thanks for your Login....Have a great day!!!\")\n",
    "                    break\n",
    "        else:\n",
    "            print(\"\\n Incorrect Password......\")\n",
    "    else:\n",
    "        print(\"\\n No such account Number......\")\n",
    "elif ch == 2:\n",
    "    l = []\n",
    "    name = input(\"\\n Enter your name : \")\n",
    "    bal = float(input(\"\\n Enter your current balance : \"))\n",
    "    password = input(\"\\n Enter your password : \")\n",
    "    cpass = input(\"\\n Enter your password again : \")\n",
    "    if password == cpass:\n",
    "        l.extend([name,bal,password])\n",
    "        newaccno = list(bank.keys())[-1] + 1\n",
    "        bank[newaccno] = l\n",
    "        print(\"\\nYour details has been added.....\")\n",
    "    else:\n",
    "        print(\"\\nPassword does not match try again!!!!\")\n",
    "elif ch == 3:\n",
    "    pass\n",
    "elif ch == 4:\n",
    "    pass\n",
    "else:\n",
    "    print(\"\\nSorry No such option available....\")"
   ]
  },
  {
   "cell_type": "code",
   "execution_count": 27,
   "metadata": {},
   "outputs": [
    {
     "data": {
      "text/plain": [
       "{1001: ['Simran', 10000, 'passwd'],\n",
       " 1002: ['Shubham', 20000, 'admin'],\n",
       " 1003: ['Aman', 15000, 'aman'],\n",
       " 1004: ['Ambika', 25000, 'passpass'],\n",
       " 1005: ['Koashal', 22000, 'gupta'],\n",
       " 1006: ['Rajeev', 12000.0, 'mypass']}"
      ]
     },
     "execution_count": 27,
     "metadata": {},
     "output_type": "execute_result"
    }
   ],
   "source": [
    "bank"
   ]
  },
  {
   "cell_type": "code",
   "execution_count": null,
   "metadata": {},
   "outputs": [],
   "source": [
    "## Try to do forgot password...."
   ]
  }
 ],
 "metadata": {
  "kernelspec": {
   "display_name": "Python 3",
   "language": "python",
   "name": "python3"
  },
  "language_info": {
   "codemirror_mode": {
    "name": "ipython",
    "version": 3
   },
   "file_extension": ".py",
   "mimetype": "text/x-python",
   "name": "python",
   "nbconvert_exporter": "python",
   "pygments_lexer": "ipython3",
   "version": "3.7.4"
  }
 },
 "nbformat": 4,
 "nbformat_minor": 2
}
