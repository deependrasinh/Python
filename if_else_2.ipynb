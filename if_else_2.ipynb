{
 "cells": [
  {
   "cell_type": "raw",
   "metadata": {},
   "source": [
    "total units --> 200 \n",
    "\n",
    "50 --> 0.50 = 50*0.50 \n",
    "(200-50) --> 150\n",
    "150>=100\n",
    "100 --> 0.75 = 100*0.75\n",
    "(150-100) --> 50\n",
    "50  --> 1.20 = 50*1.20\n",
    "\n",
    "\n",
    "total units --> 500\n",
    "50 --> 0.50 --> 50*0.50\n",
    "(500-50) --> 450\n",
    "100 --> 0.75 --> 100*0.75\n",
    "(450-100) --> 350\n",
    "100 --> 1.20 --> 100*1.20\n",
    "(350-100) --> 250"
   ]
  },
  {
   "cell_type": "markdown",
   "metadata": {},
   "source": [
    "$$ roots = \\frac {-b +- \\sqrt{b^2-4ac}} {2a} $$"
   ]
  },
  {
   "cell_type": "markdown",
   "metadata": {},
   "source": [
    "$$ f(x) = ax^2 - bx + c $$"
   ]
  },
  {
   "cell_type": "code",
   "execution_count": 1,
   "metadata": {},
   "outputs": [],
   "source": [
    "from math import sqrtt"
   ]
  },
  {
   "cell_type": "code",
   "execution_count": 2,
   "metadata": {},
   "outputs": [
    {
     "data": {
      "text/plain": [
       "3.0"
      ]
     },
     "execution_count": 2,
     "metadata": {},
     "output_type": "execute_result"
    }
   ],
   "source": [
    "sqrt(9)"
   ]
  },
  {
   "cell_type": "code",
   "execution_count": 3,
   "metadata": {},
   "outputs": [
    {
     "data": {
      "text/plain": [
       "3.0"
      ]
     },
     "execution_count": 3,
     "metadata": {},
     "output_type": "execute_result"
    }
   ],
   "source": [
    "9**(1/2)"
   ]
  },
  {
   "cell_type": "code",
   "execution_count": 8,
   "metadata": {},
   "outputs": [
    {
     "name": "stdout",
     "output_type": "stream",
     "text": [
      "Enter your amount : 710\n"
     ]
    }
   ],
   "source": [
    "#500,10,20,2000,50,100,200\n",
    "notes = {500:10,20:20,200:5,2000:2}\n",
    "amt = input(\"Enter your amount : \")\n",
    "#highest --> lowest\n",
    "#lowest --> highest"
   ]
  },
  {
   "cell_type": "markdown",
   "metadata": {},
   "source": [
    "### Greatest among three numbers"
   ]
  },
  {
   "cell_type": "code",
   "execution_count": 10,
   "metadata": {},
   "outputs": [
    {
     "name": "stdout",
     "output_type": "stream",
     "text": [
      "Enter any number : 12\n",
      "Enter second number : 56\n",
      "Enter third number : 23\n",
      "The greatest number is b 56\n"
     ]
    }
   ],
   "source": [
    "a = int(input(\"Enter any number : \"))\n",
    "b = int(input(\"Enter second number : \"))\n",
    "c = int(input(\"Enter third number : \"))\n",
    "if a>b:\n",
    "    if a>c:\n",
    "        print(f\"The greatest number is a {a}\")\n",
    "    else:\n",
    "        print(f\"The greatest number is c {c}\")\n",
    "else:\n",
    "    print(f\"The greatest number is b {b}\")"
   ]
  },
  {
   "cell_type": "code",
   "execution_count": 21,
   "metadata": {},
   "outputs": [],
   "source": [
    "data = {\n",
    "    'pin' : [1101,1022,1403,1504],\n",
    "    'bal' : [10000,20000,15000,30000],\n",
    "    'account' : ['current','savings','savings','savings']\n",
    "}"
   ]
  },
  {
   "cell_type": "markdown",
   "metadata": {},
   "source": [
    "1. Take pin number as input\n",
    "2. Check whether the pin number exists or not\n",
    "3. take input of type of account --> current,savings\n",
    "4. If the account is savings take the input for credit of debit\n",
    "5. If the user chooses debit then subtract the amount from the balance\n",
    "6. If the user chooses credit then increase the amount \n",
    "7. If the account is current then do the above things again\n"
   ]
  },
  {
   "cell_type": "code",
   "execution_count": 12,
   "metadata": {},
   "outputs": [
    {
     "ename": "TypeError",
     "evalue": "'int' object is not subscriptable",
     "output_type": "error",
     "traceback": [
      "\u001b[1;31m---------------------------------------------------------------------\u001b[0m",
      "\u001b[1;31mTypeError\u001b[0m                           Traceback (most recent call last)",
      "\u001b[1;32m<ipython-input-12-12132e68c66a>\u001b[0m in \u001b[0;36m<module>\u001b[1;34m\u001b[0m\n\u001b[1;32m----> 1\u001b[1;33m \u001b[1;36m1212\u001b[0m\u001b[1;33m[\u001b[0m\u001b[1;33m:\u001b[0m\u001b[1;36m2\u001b[0m\u001b[1;33m]\u001b[0m\u001b[1;33m\u001b[0m\u001b[1;33m\u001b[0m\u001b[0m\n\u001b[0m",
      "\u001b[1;31mTypeError\u001b[0m: 'int' object is not subscriptable"
     ]
    }
   ],
   "source": [
    "1212"
   ]
  },
  {
   "cell_type": "code",
   "execution_count": 13,
   "metadata": {},
   "outputs": [
    {
     "data": {
      "text/plain": [
       "False"
      ]
     },
     "execution_count": 13,
     "metadata": {},
     "output_type": "execute_result"
    }
   ],
   "source": [
    "1212 == 4"
   ]
  },
  {
   "cell_type": "code",
   "execution_count": 15,
   "metadata": {},
   "outputs": [
    {
     "ename": "TypeError",
     "evalue": "object of type 'int' has no len()",
     "output_type": "error",
     "traceback": [
      "\u001b[1;31m---------------------------------------------------------------------\u001b[0m",
      "\u001b[1;31mTypeError\u001b[0m                           Traceback (most recent call last)",
      "\u001b[1;32m<ipython-input-15-e27f9087933a>\u001b[0m in \u001b[0;36m<module>\u001b[1;34m\u001b[0m\n\u001b[1;32m----> 1\u001b[1;33m \u001b[0mlen\u001b[0m\u001b[1;33m(\u001b[0m\u001b[1;36m1212\u001b[0m\u001b[1;33m)\u001b[0m\u001b[1;33m\u001b[0m\u001b[1;33m\u001b[0m\u001b[0m\n\u001b[0m",
      "\u001b[1;31mTypeError\u001b[0m: object of type 'int' has no len()"
     ]
    }
   ],
   "source": [
    "len(1212)"
   ]
  },
  {
   "cell_type": "code",
   "execution_count": 18,
   "metadata": {},
   "outputs": [
    {
     "data": {
      "text/plain": [
       "5"
      ]
     },
     "execution_count": 18,
     "metadata": {},
     "output_type": "execute_result"
    }
   ],
   "source": [
    "a = 12121\n",
    "len(str(a))"
   ]
  },
  {
   "cell_type": "code",
   "execution_count": 22,
   "metadata": {},
   "outputs": [
    {
     "data": {
      "text/plain": [
       "{'pin': [1101, 1022, 1403, 1504],\n",
       " 'bal': [10000, 20000, 15000, 30000],\n",
       " 'account': ['current', 'savings', 'savings', 'savings']}"
      ]
     },
     "execution_count": 22,
     "metadata": {},
     "output_type": "execute_result"
    }
   ],
   "source": [
    "data"
   ]
  },
  {
   "cell_type": "code",
   "execution_count": 29,
   "metadata": {},
   "outputs": [
    {
     "name": "stdout",
     "output_type": "stream",
     "text": [
      "****************Welcome to out ATM****************\n",
      "\n",
      "Enter your 4 digit pin number : 1022\n",
      "\n",
      "1. Savings\n",
      "2. Current\n",
      "\n",
      "Enter one of the option from above (1/2) : 1\n",
      "\n",
      "1. Credit\n",
      "2. Withdraw\n",
      "3. Check Balance\n",
      "\n",
      "Enter one of the option from above(1/2) : 3\n",
      "*****************************Your Balance*****************************\n",
      "19700.0\n"
     ]
    }
   ],
   "source": [
    "print(\"Welcome to out ATM\".center(50,\"*\"))\n",
    "print()\n",
    "pin = int(input(\"\\nEnter your 4 digit pin number : \"))\n",
    "if len(str(pin)) == 4:\n",
    "    if pin in data['pin']:\n",
    "        print(\"\\n1. Savings\\n2. Current\")\n",
    "        acc = int(input(\"\\nEnter one of the option from above (1/2) : \"))\n",
    "        index = data['pin'].index(pin)\n",
    "        if acc == 1:\n",
    "            if data['account'][index] == \"savings\":\n",
    "                print(\"\\n1. Credit\\n2. Withdraw\\n3. Check Balance\")\n",
    "                ch = int(input(\"\\nEnter one of the option from above(1/2) : \"))\n",
    "                if ch == 1:\n",
    "                    amt = float(input(\"\\nEnter the amount : \"))\n",
    "                    data['bal'][index] += amt\n",
    "                    print(\"\\n Done Successfully....\")\n",
    "                elif ch == 2:\n",
    "                    amt = float(input(\"\\n Enter the amount : \"))\n",
    "                    data['bal'][index] -= amt\n",
    "                    print(\"\\n Done Successfully\")\n",
    "                elif ch == 3:\n",
    "                    print(\"Your Balance\".center(70,\"*\"))\n",
    "                    print(data['bal'][index])\n",
    "                else:\n",
    "                    print(\"\\n Invalid choice....\")\n",
    "            else:\n",
    "                print(\"\\n Invalid\")\n",
    "        elif acc == 2:\n",
    "            if data['account'][index] == \"current\":\n",
    "                    pass\n",
    "            else:\n",
    "                print(\"\\nInvalid\")\n",
    "        else:\n",
    "            print(\"\\nNo such option available.....\")\n",
    "        \n",
    "    else:\n",
    "        print(\"Invalid pin....\")\n",
    "else:\n",
    "    print(\"\\nThe pin number should be 4 digits only.....\")"
   ]
  },
  {
   "cell_type": "code",
   "execution_count": 43,
   "metadata": {},
   "outputs": [],
   "source": [
    "cities = {\n",
    "    'jaipur' : {\n",
    "        'state' : 'Rajasthan',\n",
    "        'country' : 'India',\n",
    "        'historical places' : ['Hawa Mahal','Jal Mahal','Amer Fort','Nahargarh'],\n",
    "        'malls' : ['Hypercity','WTP','Central'],\n",
    "        'temp' : '20C',\n",
    "        'description' : 'haze',\n",
    "    },\n",
    "    'delhi' : {\n",
    "        'state' : 'Delhi',\n",
    "        'country' : 'India',\n",
    "        'historical places' : ['India Gate','Lotus Temple'],\n",
    "        'temp' : '19C',\n",
    "        'description' : 'cloudy'\n",
    "    }\n",
    "}"
   ]
  },
  {
   "cell_type": "code",
   "execution_count": 44,
   "metadata": {},
   "outputs": [
    {
     "data": {
      "text/plain": [
       "{'jaipur': {'state': 'Rajasthan',\n",
       "  'country': 'India',\n",
       "  'historical places': ['Hawa Mahal', 'Jal Mahal', 'Amer Fort', 'Nahargarh'],\n",
       "  'malls': ['Hypercity', 'WTP', 'Central'],\n",
       "  'temp': '20C',\n",
       "  'description': 'haze'},\n",
       " 'delhi': {'state': 'Delhi',\n",
       "  'country': 'India',\n",
       "  'historical places': ['India Gate', 'Lotus Temple'],\n",
       "  'temp': '19C',\n",
       "  'description': 'cloudy'}}"
      ]
     },
     "execution_count": 44,
     "metadata": {},
     "output_type": "execute_result"
    }
   ],
   "source": [
    "cities"
   ]
  },
  {
   "cell_type": "code",
   "execution_count": 47,
   "metadata": {},
   "outputs": [
    {
     "name": "stdout",
     "output_type": "stream",
     "text": [
      "\n",
      "Enter the place name : delhi\n",
      "\n",
      "The features of delhi are ...\n",
      "state,country,historical places,temp,description\n",
      "\n",
      "Enter the name of feature from above list : state\n",
      "The value of STATE is Delhi\n"
     ]
    }
   ],
   "source": [
    "place = input(\"\\nEnter the place name : \").lower()\n",
    "if cities.get(place):\n",
    "    f = list(cities[place].keys())\n",
    "    print(f\"\\nThe features of {place} are ...\")\n",
    "    print(*f,sep=\",\")  #(*list)\n",
    "    feature = input(\"\\nEnter the name of feature from above list : \").lower()\n",
    "    if cities[place].get(feature):\n",
    "        if type(cities[place][feature]) is list:\n",
    "            print(f\"The value of {feature.upper()} is\", *cities[place][feature],sep=\",\")\n",
    "        else:\n",
    "            print(f\"The value of {feature.upper()} is {cities[place][feature]}\")\n",
    "    else:\n",
    "        print(\"\\nInvalid Feature\")\n",
    "else:\n",
    "    print(\"\\nNo such place.....\")"
   ]
  },
  {
   "cell_type": "code",
   "execution_count": 48,
   "metadata": {},
   "outputs": [
    {
     "name": "stdout",
     "output_type": "stream",
     "text": [
      "hello world bye bye\n"
     ]
    }
   ],
   "source": [
    "print(\"hello world\",\"bye bye\")"
   ]
  },
  {
   "cell_type": "code",
   "execution_count": 49,
   "metadata": {},
   "outputs": [
    {
     "data": {
      "text/plain": [
       "['state', 'country', 'historical places', 'temp', 'description']"
      ]
     },
     "execution_count": 49,
     "metadata": {},
     "output_type": "execute_result"
    }
   ],
   "source": [
    "f"
   ]
  },
  {
   "cell_type": "code",
   "execution_count": 51,
   "metadata": {},
   "outputs": [
    {
     "name": "stdout",
     "output_type": "stream",
     "text": [
      "state,country,historical places,temp,description\n"
     ]
    }
   ],
   "source": [
    "print(*f,sep=\",\")"
   ]
  },
  {
   "cell_type": "code",
   "execution_count": null,
   "metadata": {},
   "outputs": [],
   "source": []
  }
 ],
 "metadata": {
  "kernelspec": {
   "display_name": "Python 3",
   "language": "python",
   "name": "python3"
  },
  "language_info": {
   "codemirror_mode": {
    "name": "ipython",
    "version": 3
   },
   "file_extension": ".py",
   "mimetype": "text/x-python",
   "name": "python",
   "nbconvert_exporter": "python",
   "pygments_lexer": "ipython3",
   "version": "3.7.4"
  }
 },
 "nbformat": 4,
 "nbformat_minor": 2
}
