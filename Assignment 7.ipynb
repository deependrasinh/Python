{
 "cells": [
  {
   "cell_type": "code",
   "execution_count": 17,
   "metadata": {},
   "outputs": [],
   "source": [
    "# Q.1 --> Maximum between two numbers\n",
    "maxx2= lambda x,y : x if x>y else y      "
   ]
  },
  {
   "cell_type": "code",
   "execution_count": 18,
   "metadata": {},
   "outputs": [
    {
     "data": {
      "text/plain": [
       "3"
      ]
     },
     "execution_count": 18,
     "metadata": {},
     "output_type": "execute_result"
    }
   ],
   "source": [
    "maxx2(2,3)"
   ]
  },
  {
   "cell_type": "code",
   "execution_count": 10,
   "metadata": {},
   "outputs": [],
   "source": [
    "# Q.2 --> Maximum between three numbers\n",
    "maxx3 = lambda x,y,z : x if x>y and x>z  else y if y>z else z   #Q.2 maxx between three numbers"
   ]
  },
  {
   "cell_type": "code",
   "execution_count": 12,
   "metadata": {},
   "outputs": [
    {
     "data": {
      "text/plain": [
       "3"
      ]
     },
     "execution_count": 12,
     "metadata": {},
     "output_type": "execute_result"
    }
   ],
   "source": [
    "maxx3(3,2,1)"
   ]
  },
  {
   "cell_type": "code",
   "execution_count": 19,
   "metadata": {},
   "outputs": [],
   "source": [
    "# Q.3 --> Input a number is positive,negative or zero \n",
    "check = lambda num : print(\"number is poistive\") if num>0 else print(\"Number is negative\") if num<0 else print(\"Number is Zero\")"
   ]
  },
  {
   "cell_type": "code",
   "execution_count": 20,
   "metadata": {},
   "outputs": [
    {
     "name": "stdout",
     "output_type": "stream",
     "text": [
      "Number is Zero\n"
     ]
    }
   ],
   "source": [
    "check(0)"
   ]
  },
  {
   "cell_type": "code",
   "execution_count": 29,
   "metadata": {},
   "outputs": [],
   "source": [
    "# Q.5 --> Input a number and if it is divisible by 5 and 11 or not\n",
    "Div = lambda num : print(\"Number is Divisible by 5 and 11\") if num % 5==0 and num%11==0 else print(\"Number is not divisible by 5 and 11\")"
   ]
  },
  {
   "cell_type": "code",
   "execution_count": 30,
   "metadata": {},
   "outputs": [
    {
     "name": "stdout",
     "output_type": "stream",
     "text": [
      "Number is not divisible by 5 and 11\n"
     ]
    }
   ],
   "source": [
    "Div(23)"
   ]
  },
  {
   "cell_type": "code",
   "execution_count": 47,
   "metadata": {},
   "outputs": [],
   "source": [
    "#65 to 90 ----> # Capital Alphabets\n",
    "#97 to 122 ----> # Small Alphabets"
   ]
  },
  {
   "cell_type": "code",
   "execution_count": 21,
   "metadata": {},
   "outputs": [
    {
     "name": "stdout",
     "output_type": "stream",
     "text": [
      "Enter to check an alphabet: A\n",
      "Alphabet\n"
     ]
    }
   ],
   "source": [
    "# Q.6 --> write a program to check whether a character is alphabet or not\n",
    "l1=list(range(65,91))\n",
    "l2=list(range(97,123))\n",
    "l3= list(map(chr,l1))\n",
    "l4= list(map(chr,l2))\n",
    "l5=l3+l4\n",
    "def alphabet():\n",
    "        check= input(\"Enter to check an alphabet: \")\n",
    "        if check in l5:\n",
    "            print(\"Alphabet\")\n",
    "        else:\n",
    "            print(\"not an Alphabet\")\n",
    "alphabet()\n",
    "\n"
   ]
  },
  {
   "cell_type": "code",
   "execution_count": 22,
   "metadata": {},
   "outputs": [
    {
     "name": "stdout",
     "output_type": "stream",
     "text": [
      "consonant\n"
     ]
    }
   ],
   "source": [
    "# Check a character is vowel or consonant\n",
    "vow = ['a','e','i','o','u']\n",
    "def vowel(check):\n",
    "    if check.lower() in vow:\n",
    "        print(\"vowel\")\n",
    "    else:\n",
    "        print(\"consonant\")\n",
    "vowel('c')"
   ]
  },
  {
   "cell_type": "code",
   "execution_count": 21,
   "metadata": {},
   "outputs": [
    {
     "data": {
      "text/plain": [
       "'9'"
      ]
     },
     "execution_count": 21,
     "metadata": {},
     "output_type": "execute_result"
    }
   ],
   "source": [
    "chr(57)                   # 48 to 57 ---> numbers "
   ]
  },
  {
   "cell_type": "code",
   "execution_count": 23,
   "metadata": {},
   "outputs": [
    {
     "name": "stdout",
     "output_type": "stream",
     "text": [
      "special characters\n"
     ]
    }
   ],
   "source": [
    "l1=list(range(65,91))\n",
    "l2=list(range(97,123))\n",
    "l3=list(map(chr,l1))\n",
    "l4=list(map(chr,l2))\n",
    "l5=l4+l5\n",
    "l6=list(range(0,10))\n",
    "def ansc(check):\n",
    "    if check in l5:\n",
    "        print(\"Alphabet\")\n",
    "    elif check in l6:\n",
    "        print(\"numbers\")\n",
    "    else:\n",
    "        print(\"special characters\")\n",
    "ansc('/')"
   ]
  },
  {
   "cell_type": "code",
   "execution_count": 24,
   "metadata": {},
   "outputs": [
    {
     "name": "stdout",
     "output_type": "stream",
     "text": [
      "Enter a number: 1\n"
     ]
    },
    {
     "ename": "TypeError",
     "evalue": "list indices must be integers or slices, not tuple",
     "output_type": "error",
     "traceback": [
      "\u001b[1;31m---------------------------------------------------------------------------\u001b[0m",
      "\u001b[1;31mTypeError\u001b[0m                                 Traceback (most recent call last)",
      "\u001b[1;32m<ipython-input-24-730eb677a23f>\u001b[0m in \u001b[0;36m<module>\u001b[1;34m\u001b[0m\n\u001b[0;32m      8\u001b[0m             \u001b[1;32mpass\u001b[0m\u001b[1;33m\u001b[0m\u001b[1;33m\u001b[0m\u001b[0m\n\u001b[0;32m      9\u001b[0m     \u001b[0mprint\u001b[0m\u001b[1;33m(\u001b[0m\u001b[0mcheck\u001b[0m\u001b[1;33m[\u001b[0m\u001b[0mvar\u001b[0m\u001b[1;33m]\u001b[0m\u001b[1;33m[\u001b[0m\u001b[1;36m1\u001b[0m\u001b[1;33m]\u001b[0m\u001b[1;33m)\u001b[0m\u001b[1;33m\u001b[0m\u001b[1;33m\u001b[0m\u001b[0m\n\u001b[1;32m---> 10\u001b[1;33m \u001b[0mDay\u001b[0m\u001b[1;33m(\u001b[0m\u001b[1;33m)\u001b[0m\u001b[1;33m\u001b[0m\u001b[1;33m\u001b[0m\u001b[0m\n\u001b[0m",
      "\u001b[1;32m<ipython-input-24-730eb677a23f>\u001b[0m in \u001b[0;36mDay\u001b[1;34m()\u001b[0m\n\u001b[0;32m      5\u001b[0m     \u001b[0mnum\u001b[0m\u001b[1;33m=\u001b[0m\u001b[0mint\u001b[0m\u001b[1;33m(\u001b[0m\u001b[0minput\u001b[0m\u001b[1;33m(\u001b[0m\u001b[1;34m\"Enter a number: \"\u001b[0m\u001b[1;33m)\u001b[0m\u001b[1;33m)\u001b[0m\u001b[1;33m\u001b[0m\u001b[1;33m\u001b[0m\u001b[0m\n\u001b[0;32m      6\u001b[0m     \u001b[1;32mfor\u001b[0m \u001b[0mvar\u001b[0m \u001b[1;32min\u001b[0m \u001b[0mcheck\u001b[0m\u001b[1;33m:\u001b[0m\u001b[1;33m\u001b[0m\u001b[1;33m\u001b[0m\u001b[0m\n\u001b[1;32m----> 7\u001b[1;33m         \u001b[1;32mif\u001b[0m \u001b[0mnum\u001b[0m\u001b[1;33m==\u001b[0m\u001b[0mcheck\u001b[0m\u001b[1;33m[\u001b[0m\u001b[0mvar\u001b[0m\u001b[1;33m]\u001b[0m\u001b[1;33m[\u001b[0m\u001b[1;36m0\u001b[0m\u001b[1;33m]\u001b[0m\u001b[1;33m:\u001b[0m\u001b[1;33m\u001b[0m\u001b[1;33m\u001b[0m\u001b[0m\n\u001b[0m\u001b[0;32m      8\u001b[0m             \u001b[1;32mpass\u001b[0m\u001b[1;33m\u001b[0m\u001b[1;33m\u001b[0m\u001b[0m\n\u001b[0;32m      9\u001b[0m     \u001b[0mprint\u001b[0m\u001b[1;33m(\u001b[0m\u001b[0mcheck\u001b[0m\u001b[1;33m[\u001b[0m\u001b[0mvar\u001b[0m\u001b[1;33m]\u001b[0m\u001b[1;33m[\u001b[0m\u001b[1;36m1\u001b[0m\u001b[1;33m]\u001b[0m\u001b[1;33m)\u001b[0m\u001b[1;33m\u001b[0m\u001b[1;33m\u001b[0m\u001b[0m\n",
      "\u001b[1;31mTypeError\u001b[0m: list indices must be integers or slices, not tuple"
     ]
    }
   ],
   "source": [
    "Identity= [1,2,3,4,5,6,7]\n",
    "Day = ['Sunday','Monday','Tuesday','Wednesday','Thursday','Friday','Saturday']\n",
    "check= list(zip(Identity,Day))\n",
    "def Day():\n",
    "    num=int(input(\"Enter a number: \"))\n",
    "    for var in check:\n",
    "        if num==check[var][0]:\n",
    "            pass\n",
    "    print(check[var][1])\n",
    "Day()"
   ]
  },
  {
   "cell_type": "code",
   "execution_count": 69,
   "metadata": {},
   "outputs": [],
   "source": [
    "# Q.13,15 Doubt"
   ]
  },
  {
   "cell_type": "code",
   "execution_count": 71,
   "metadata": {},
   "outputs": [
    {
     "name": "stdout",
     "output_type": "stream",
     "text": [
      "Enter first angle of triangle: 60\n",
      "Enter second angle of triangle: 60\n",
      "Enter third angle of triangle: 60\n",
      "It is a triangle\n"
     ]
    }
   ],
   "source": [
    "# To check Triangle is valid or not\n",
    "ang1=int(input(\"Enter first angle of triangle: \"))\n",
    "ang2=int(input(\"Enter second angle of triangle: \"))\n",
    "ang3=int(input(\"Enter third angle of triangle: \"))\n",
    "\n",
    "def triangle():\n",
    "    if ang1+ang2+ang3==180:\n",
    "        print(\"It is a triangle\")\n",
    "    else:\n",
    "        print(\"Not a triangle\")\n",
    "triangle()\n",
    "\n"
   ]
  },
  {
   "cell_type": "code",
   "execution_count": 72,
   "metadata": {},
   "outputs": [
    {
     "name": "stdout",
     "output_type": "stream",
     "text": [
      "Enter angles:20 60 100\n",
      "It is a triangle\n"
     ]
    }
   ],
   "source": [
    "# To check Triangle is valid or not using lambda\n",
    "def triangle():\n",
    "    ang1,ang2,ang3=map(int,input(\"Enter angles:\").split())\n",
    "    if ang1+ang2+ang3==180:\n",
    "        print(\"It is a triangle\")\n",
    "    else:\n",
    "        print(\"Not a triangle\")\n",
    "triangle()\n"
   ]
  },
  {
   "cell_type": "code",
   "execution_count": 12,
   "metadata": {},
   "outputs": [
    {
     "name": "stdout",
     "output_type": "stream",
     "text": [
      "It is an Equilateral Triangle\n",
      "It ia scalene triangle\n",
      "It is an isoceles triangle\n",
      "Not a triangle\n"
     ]
    }
   ],
   "source": [
    "# To check Triangle is equilateral,isoceles,scalene\n",
    "def triangle(ang1,ang2,ang3):\n",
    "    if ang1+ang2+ang3==180:\n",
    "        if (ang1==ang2 and ang1==ang3):\n",
    "            print(\"It is an Equilateral Triangle\")\n",
    "        elif (ang1==ang2 or ang1==ang3) or (ang1==ang2 or ang2==ang3):\n",
    "            print(\"It is an isoceles triangle\")\n",
    "        else:\n",
    "            print(\"It ia scalene triangle\")\n",
    "    else:\n",
    "        print(\"Not a triangle\")\n",
    "triangle(60,60,60)\n",
    "triangle(100,25,55)\n",
    "triangle(90,45,45)\n",
    "triangle(60,60,70)\n"
   ]
  },
  {
   "cell_type": "code",
   "execution_count": 9,
   "metadata": {},
   "outputs": [
    {
     "name": "stdout",
     "output_type": "stream",
     "text": [
      "[-2, 1]\n"
     ]
    }
   ],
   "source": [
    "#to find square root using quadratic equations\n",
    "def quadratic(a,b,c):\n",
    "    l=[]\n",
    "    for x in range(-10,10):\n",
    "        if a*x*x+b*x+c == 0 :\n",
    "            l.append(x)\n",
    "    return l\n",
    "result=quadratic(1,1,-2)\n",
    "print(result)\n",
    "            "
   ]
  },
  {
   "cell_type": "code",
   "execution_count": 26,
   "metadata": {},
   "outputs": [
    {
     "name": "stdout",
     "output_type": "stream",
     "text": [
      "Profit\n"
     ]
    }
   ],
   "source": [
    "# Analyse profit loss\n",
    "def pro_loss(soldprice,costprice):\n",
    "    if soldprice > costprice:\n",
    "        print(\"Profit\")\n",
    "    else:\n",
    "        print(\"Loss\")\n",
    "pro_loss(500,300)\n",
    "    "
   ]
  },
  {
   "cell_type": "code",
   "execution_count": 27,
   "metadata": {},
   "outputs": [
    {
     "name": "stdout",
     "output_type": "stream",
     "text": [
      "Profit of 200 rupees\n",
      "Loss of 1000 rupees\n"
     ]
    }
   ],
   "source": [
    "# to analyse profit and loss\n",
    "def pro_loss(soldprice,costprice):\n",
    "    if soldprice > costprice:\n",
    "        profit=soldprice-costprice\n",
    "        print(f\"Profit of {profit} rupees\")\n",
    "    else:\n",
    "        loss=costprice-soldprice\n",
    "        print(f\"Loss of {loss} rupees\")\n",
    "pro_loss(500,300)\n",
    "pro_loss(1000,2000)\n",
    "    "
   ]
  },
  {
   "cell_type": "code",
   "execution_count": 3,
   "metadata": {},
   "outputs": [
    {
     "name": "stdout",
     "output_type": "stream",
     "text": [
      "Enter the marks of English: 65.5\n",
      "Enter the marks of Hindi: 64.8\n",
      "Enter the marks of Maths: 55\n",
      "Enter the marks of Physics: 75.50\n",
      "Enter the marks of Chemistry: 80.5\n",
      " 68.26 and Grade D\n"
     ]
    }
   ],
   "source": [
    "# to calculate percentage and assign grades\n",
    "def Result():\n",
    "    English= eval(input(\"Enter the marks of English: \"))\n",
    "    Hindi=   eval(input(\"Enter the marks of Hindi: \"))\n",
    "    Maths=   eval(input(\"Enter the marks of Maths: \"))\n",
    "    Physics= eval(input(\"Enter the marks of Physics: \"))\n",
    "    Chemistry= eval(input(\"Enter the marks of Chemistry: \"))\n",
    "    Percentage=((English+Hindi+Maths+Physics+Chemistry)/500)*100\n",
    "    if Percentage>=90:\n",
    "        print(f\"{Percentage} Grade A\")\n",
    "    elif Percentage>=80:\n",
    "        print(f\"{Percentage} and Grade B\")\n",
    "    elif Percentage>=70:\n",
    "        print(f\" {Percentage} and Grade C\")\n",
    "    elif Percentage>=60:\n",
    "        print(f\" {Percentage} and Grade D\")\n",
    "    elif Percentage>=40:\n",
    "        print(f\" {Percentage} and  Grade E\")\n",
    "    else:\n",
    "        (f\" {Percentage} and Grade F\")\n",
    "Result()\n"
   ]
  },
  {
   "cell_type": "code",
   "execution_count": 6,
   "metadata": {},
   "outputs": [
    {
     "name": "stdout",
     "output_type": "stream",
     "text": [
      "Your Basic Salary is 25000\n",
      "Your Gross Salary is 25000+7500.0+23750.0 = 56250.0\n"
     ]
    }
   ],
   "source": [
    "# to find gross salary with hra and da\n",
    "def Salary(Basic):\n",
    "    if Basic <= 10000:\n",
    "        HRA=Basic*20/100\n",
    "        DA=Basic*80/100\n",
    "        print(f\"Your Basic Salary is {Basic}\")\n",
    "        Total=Basic+HRA+DA\n",
    "        print(f\"Your Gross Salary is {Basic}+{HRA}+{DA} = {Total}\")\n",
    "    elif Basic <= 20000:\n",
    "        HRA=Basic*25/100\n",
    "        DA=Basic*90/100\n",
    "        print(f\"Your Basic Salary is {Basic}\")\n",
    "        Total=Basic+HRA+DA\n",
    "        print(f\"Your Gross Salary is {Basic}+{HRA}+{DA} = {Total}\")\n",
    "\n",
    "    elif Basic > 20000:\n",
    "        HRA=Basic*30/100\n",
    "        DA=Basic*95/100\n",
    "        print(f\"Your Basic Salary is {Basic}\")\n",
    "        Total=Basic+HRA+DA\n",
    "        print(f\"Your Gross Salary is {Basic}+{HRA}+{DA} = {Total}\")\n",
    "\n",
    "Salary(25000)\n",
    "              \n",
    "              \n",
    "              \n",
    "    "
   ]
  },
  {
   "cell_type": "code",
   "execution_count": 28,
   "metadata": {},
   "outputs": [
    {
     "name": "stdout",
     "output_type": "stream",
     "text": [
      "Your electricity bill with surcharge is 865.0\n"
     ]
    }
   ],
   "source": [
    "#to calculate electricity bill\n",
    "#for first 50 units it will be charged 0.50\n",
    "#for next 100 units it will be charged 0.75\n",
    "#for next 100 units it will be charged 1.20\n",
    "#for next 250 units it will be charged 1.50\n",
    "def electricity_bill(unit):\n",
    "    surcharge=(20/100)*unit\n",
    "    if unit <= 50:\n",
    "        Total=(unit*0.50) + surcharge\n",
    "        print(f\"Your electricity bill with surcharge is {Total}\")\n",
    "    elif unit <= 150:\n",
    "        Total= 50*0.50 + (unit-50)*0.75 +surcharge\n",
    "        print(f\"Your electricity bill with surcharge is {Total}\")\n",
    "    elif unit <= 250:\n",
    "        Total= 50*0.50 + 100*0.75 + (unit-150)*1.20 + surcharge\n",
    "        print(f\"Your electricity bill with surcharge is {Total}\")\n",
    "    else:\n",
    "        Total=50*0.50 + 100*0.75 + 100*1.20 +(unit-250)*1.50+surcharge\n",
    "        print(f\"Your electricity bill with surcharge is {Total}\")\n",
    "electricity_bill(600)\n",
    "    "
   ]
  },
  {
   "cell_type": "code",
   "execution_count": null,
   "metadata": {},
   "outputs": [],
   "source": []
  }
 ],
 "metadata": {
  "kernelspec": {
   "display_name": "Python 3",
   "language": "python",
   "name": "python3"
  },
  "language_info": {
   "codemirror_mode": {
    "name": "ipython",
    "version": 3
   },
   "file_extension": ".py",
   "mimetype": "text/x-python",
   "name": "python",
   "nbconvert_exporter": "python",
   "pygments_lexer": "ipython3",
   "version": "3.7.3"
  }
 },
 "nbformat": 4,
 "nbformat_minor": 2
}
