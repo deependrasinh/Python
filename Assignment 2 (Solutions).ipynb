{
 "cells": [
  {
   "cell_type": "markdown",
   "metadata": {},
   "source": [
    "**Q.1)  What are Python decorators?**\n",
    "\n",
    "**Answer** A Python decorator is a specific change that we make in Python syntax to alter functions easily."
   ]
  },
  {
   "cell_type": "markdown",
   "metadata": {},
   "source": [
    "**Q.2) What is lambda in python?**\n",
    "\n",
    "**Answer** It is a single expression anonymous function often used as inline function."
   ]
  },
  {
   "cell_type": "markdown",
   "metadata": {},
   "source": [
    "**Q.3) What is unit test in python?**\n",
    "\n",
    "**Answer:** A unit testing framework in Python is known as unittest. \n",
    "    It supports sharing of setups, automation testing, shutdown code for tests, aggregation of tests into collections etc."
   ]
  },
  {
   "cell_type": "markdown",
   "metadata": {},
   "source": [
    "**Q.4)  How are arguments passed by value or by reference?**\n",
    "\n",
    "**Answer** Everything in Python is an object and all variables hold references to the objects. The references values are according to the functions; as a result you cannot change the value of the references. However, you can change the objects if it is mutable."
   ]
  },
  {
   "cell_type": "markdown",
   "metadata": {},
   "source": [
    "**Q.5) Why lambda forms in python does not have statements?**\n",
    "\n",
    "**Answer** A lambda form in python does not have statements as it is used to make new function object and then return them at runtime."
   ]
  },
  {
   "cell_type": "markdown",
   "metadata": {},
   "source": [
    "**Q.6) What is the difference between Xrange and range?**\n",
    "\n",
    "**Answer:** Xrange returns the xrange object while range returns the list, and uses the same memory and no matter what the range size is."
   ]
  },
  {
   "cell_type": "markdown",
   "metadata": {},
   "source": [
    "**Q.7) Mention what are the rules for local and global variables in Python?**\n",
    "\n",
    "**Answer:** \n",
    "\n",
    "  **Local variables:** If a variable is assigned a new value anywhere within the function's body, it's assumed to be local.\n",
    "\n",
    "  **Global variables:** Those variables that are only referenced inside a function are implicitly global."
   ]
  },
  {
   "cell_type": "markdown",
   "metadata": {},
   "source": [
    "**Q.8) How can you share global variables across modules?**\n",
    "\n",
    "**Answer:** To share global variables across modules within a single program, create a special module. Import the config module in all modules of your application. The module will be available as a global variable across modules."
   ]
  },
  {
   "cell_type": "markdown",
   "metadata": {},
   "source": [
    "**Q.9) Explain how to delete a file in Python?**\n",
    "\n",
    "**Answer:** By using a command os.remove (filename) or os.unlink(filename)"
   ]
  },
  {
   "cell_type": "markdown",
   "metadata": {},
   "source": [
    "**Q.10) What is negative index in python?**\n",
    "\n",
    "**Answer:** Python sequences can be index in positive and negative numbers. For positive index, 0 is the first index, 1 is the second index and so forth. For negative index, (-1) is the last index and (-2) is the second last index and so forth."
   ]
  }
 ],
 "metadata": {
  "kernelspec": {
   "display_name": "Python 3",
   "language": "python",
   "name": "python3"
  },
  "language_info": {
   "codemirror_mode": {
    "name": "ipython",
    "version": 3
   },
   "file_extension": ".py",
   "mimetype": "text/x-python",
   "name": "python",
   "nbconvert_exporter": "python",
   "pygments_lexer": "ipython3",
   "version": "3.7.6"
  }
 },
 "nbformat": 4,
 "nbformat_minor": 4
}
