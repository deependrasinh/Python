{
 "cells": [
  {
   "cell_type": "markdown",
   "metadata": {},
   "source": [
    "**Q.1) What is PEP-8?**\n",
    "\n",
    "**Answer** PEP 8 is a coding convention, a set of recommendation, about how to write your Python code more readable."
   ]
  },
  {
   "cell_type": "markdown",
   "metadata": {},
   "source": [
    "**Q.2) What is pickling and unpickling?**\n",
    "\n",
    "**Answer** Pickle module accepts any Python object and converts it into a string representation and dumps it into a file by using dump function, this process is called pickling. While the process of retrieving original Python objects from the stored string representation is called unpickling."
   ]
  },
  {
   "cell_type": "markdown",
   "metadata": {},
   "source": [
    "**Q.3) What are the tools that help to find bugs or perform static analysis?**\n",
    "\n",
    "**Answer** PyChecker is a static analysis tool that detects the bugs in Python source code and warns about the style and complexity of the bug. Pylint is another tool that verifies whether the module meets the coding standard."
   ]
  },
  {
   "cell_type": "markdown",
   "metadata": {},
   "source": [
    "**Q.4) What are iterators in python?**\n",
    "\n",
    "**Answeer:** In Python, iterators are used to iterate a group of elements, containers like list."
   ]
  },
  {
   "cell_type": "markdown",
   "metadata": {},
   "source": [
    "**Q.5) What are generators in python?**\n",
    "\n",
    "**Answer:** The way of implementing iterators are known as generators. It is a normal function except that it yields expression in the function."
   ]
  },
  {
   "cell_type": "markdown",
   "metadata": {},
   "source": [
    "**Q.6) What is module and package in Python?**\n",
    "\n",
    "**Answer:** In Python, module is the way to structure program. Each Python program file is a module, which imports other modules like objects and attributes.\n",
    "\n",
    "The folder of Python program is a package of modules. A package can have modules or subfolders."
   ]
  },
  {
   "cell_type": "markdown",
   "metadata": {},
   "source": [
    "**Q.7) Explain how can you make a Python Script executable on Unix?**\n",
    "\n",
    "**Answer:** To make a Python Script executable on Unix, you need to do two things,\n",
    "\n",
    "* Script file's mode must be executable and\n",
    "* the first line must begin with # ( #!/usr/local/bin/python)"
   ]
  },
  {
   "cell_type": "markdown",
   "metadata": {},
   "source": [
    "**Q.8) Explain what is Flask & its benefits?**\n",
    "\n",
    "**Answer:** \n",
    "\n",
    "   * Flask is a web micro framework for Python based on \"Werkzeug, Jinja 2 and good intentions\" BSD licensed. Werkzeug and      jingja are two of its dependencies.\n",
    "\n",
    "   \n",
    "   * Flask is part of the micro-framework. Which means it will have little to no dependencies on external libraries. It          makes the framework light while there is little dependency to update and less security bugs."
   ]
  },
  {
   "cell_type": "markdown",
   "metadata": {},
   "source": [
    "**Q.9) Mention what is the difference between Django, Pyramid, and Flask?**\n",
    "\n",
    "**Answer:** \n",
    "\n",
    "   * Flask is a \"microframework\" primarily build for a small application with simpler requirements. In flask, you don't          have to use external libraries. Flask is ready to use.\n",
    "\n",
    "\n",
    "   * Pyramid are build for larger applications. It provides flexibility and lets the developer use the right tools for          their project. The developer can choose the database, URL structure, templating style and more. Pyramid is heavy            configurable.\n",
    "\n",
    "\n",
    "   * Like Pyramid, Django can also used for larger applications. It includes an ORM."
   ]
  },
  {
   "cell_type": "markdown",
   "metadata": {},
   "source": [
    "**Q.10) Mention what is Flask-WTF and what are their features?**\n",
    "\n",
    "**Answer:** \n",
    "\n",
    " * **Flask-WTF offers simple integration with WTForms. Features include for Flask WTF are:**\n",
    "\n",
    "   \n",
    "   * Integration with wtforms\n",
    "   * Secure form with csrf token\n",
    "   * Global csrf protection\n",
    "   * Internationalization integration\n",
    "   * Recaptcha supporting\n",
    "   * File upload that works with Flask Uploads"
   ]
  },
  {
   "cell_type": "markdown",
   "metadata": {},
   "source": [
    "**Q.11) Explain what is the common way for the Flask script to work?**\n",
    "\n",
    "**Answer:** \n",
    "\n",
    "  * **The common way for the flask script to work is:**\n",
    "\n",
    "   \n",
    "   * Either it should be the import path for your application\n",
    "   * Or the path to a Python file"
   ]
  },
  {
   "cell_type": "markdown",
   "metadata": {},
   "source": [
    "**Q.12) Explain how you can access sessions in Flask?**\n",
    "\n",
    "**Answer:** A session basically allows you to remember information from one request to another. In a flask, it uses a signed cookie so the user can look at the session contents and modify. The user can modify the session if only it has the secret key Flask.secret_key."
   ]
  },
  {
   "cell_type": "markdown",
   "metadata": {},
   "source": [
    "**Q.13) Is Flask an MVC model and if yes give an example showing MVC pattern for your application?**\n",
    "\n",
    "**Answer:** \n",
    "\n",
    "from flask import Flask\n",
    "\n",
    "app = Flask(_name_)\n",
    "\n",
    "@app.route(\"/\")\n",
    "\n",
    "Def hello():\n",
    "\n",
    "return \"Hello World\"\n",
    "\n",
    "app.run(debug = True)\n",
    "\n",
    "In this code your,\n",
    "\n",
    "**Configuration part will be:**\n",
    "from flask import Flask\n",
    "\n",
    "app = Flask(_name_)\n",
    "\n",
    "\n",
    "**View part will be:**\n",
    "@app.route(\"/\")\n",
    "\n",
    "Def hello():\n",
    "\n",
    "return \"Hello World\"\n",
    "\n",
    "While you model or main part will be\n",
    "app.run(debug = True)"
   ]
  },
  {
   "cell_type": "code",
   "execution_count": null,
   "metadata": {},
   "outputs": [],
   "source": []
  }
 ],
 "metadata": {
  "kernelspec": {
   "display_name": "Python 3",
   "language": "python",
   "name": "python3"
  },
  "language_info": {
   "codemirror_mode": {
    "name": "ipython",
    "version": 3
   },
   "file_extension": ".py",
   "mimetype": "text/x-python",
   "name": "python",
   "nbconvert_exporter": "python",
   "pygments_lexer": "ipython3",
   "version": "3.7.6"
  }
 },
 "nbformat": 4,
 "nbformat_minor": 4
}
