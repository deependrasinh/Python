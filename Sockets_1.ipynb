{
 "cells": [
  {
   "cell_type": "markdown",
   "metadata": {},
   "source": [
    "\n",
    "**Write all those code using Recursion**\n",
    "\n",
    "\n",
    "    1. Write a function called prime which take a number as argument and return True if number is prime else False\n",
    "\n",
    "    2. Write a function called Even_odd which takes a number and return True if number is Even else return False\n",
    "\n",
    "    3. Implement a function tower_of_hanoi to slove Tower of Hanoi Problem using Recursion\n",
    "\n",
    "    4. Fib(n) returns nth fabonacii term using recursion \n",
    "\n",
    "    5. Factorial using Recursion \n",
    "\n",
    "    6. start pattern  1st one using recursion \n",
    "\n",
    "    7. Reverse a String using Recursion \n",
    "\n",
    "    8. Sum/ product of n term from 1-n using recursion \n",
    "\n",
    "    9. print table of a number using recursion \n",
    "\n",
    "    10. https://www.geeksforgeeks.org/recursion-practice-problems-solutions/"
   ]
  },
  {
   "cell_type": "code",
   "execution_count": 1,
   "metadata": {},
   "outputs": [],
   "source": [
    "def solve_me(number):\n",
    "    if number:\n",
    "        number + solve_me(number-1)\n",
    "    return 0"
   ]
  },
  {
   "cell_type": "code",
   "execution_count": 4,
   "metadata": {},
   "outputs": [
    {
     "name": "stdout",
     "output_type": "stream",
     "text": [
      "0\n"
     ]
    }
   ],
   "source": [
    "ans = solve_me(5)\n",
    "print(ans)"
   ]
  },
  {
   "cell_type": "markdown",
   "metadata": {},
   "source": [
    "ans = solve_me(5)\n",
    "    \n",
    "    solve_me(5) --> number = 5\n",
    "            5 + solve_me(4)\n",
    "    \n",
    "    solve_me(4) --> number = 4\n",
    "            4 + solve_me(3)\n",
    "     \n",
    "    solve_me(3) --> number = 3\n",
    "            3 + solve_me(2)\n",
    "            \n",
    "    solve_me(2) --> number = 2\n",
    "            2 + solve_me(1)\n",
    "            \n",
    "    solve_me(1) --> number = 1\n",
    "            1 + solve_me(0)\n",
    "            \n",
    "    solve_me(0) --> number = 0"
   ]
  },
  {
   "cell_type": "code",
   "execution_count": 2,
   "metadata": {},
   "outputs": [
    {
     "name": "stdout",
     "output_type": "stream",
     "text": [
      "20\n"
     ]
    }
   ],
   "source": [
    "bacon = 20\n",
    "\n",
    "bacon + 1\n",
    "\n",
    "print(bacon)"
   ]
  },
  {
   "cell_type": "markdown",
   "metadata": {},
   "source": [
    "def solve_me(number):\n",
    "    if number:\n",
    "        number + solve_me(number-1)\n",
    "    return 0\n",
    "\n",
    "ans = solve_me(5)\n",
    "    \n",
    "    solve_me(5) --> number = 5\n",
    "            5 + 0<-- solve_me(4)\n",
    "    \n",
    "    solve_me(4) --> number = 4\n",
    "            4 + 0<--solve_me(3)\n",
    "     \n",
    "    solve_me(3) --> number = 3\n",
    "            3 + 0<--solve_me(2)\n",
    "            \n",
    "    solve_me(2) --> number = 2\n",
    "            2 + 0<--solve_me(1)\n",
    "            \n",
    "    0<--solve_me(1) --> number = 1\n",
    "            1 + 0 <--solve_me(0)\n",
    "            1\n",
    "            \n",
    "            \n",
    "            \n",
    "    0<--solve_me(0) --> number = 0"
   ]
  },
  {
   "cell_type": "code",
   "execution_count": 5,
   "metadata": {},
   "outputs": [],
   "source": [
    "def solve_me(number):\n",
    "    if number:\n",
    "        return number + solve_me(number-1)\n",
    "    return 0"
   ]
  },
  {
   "cell_type": "code",
   "execution_count": 6,
   "metadata": {},
   "outputs": [
    {
     "data": {
      "text/plain": [
       "15"
      ]
     },
     "execution_count": 6,
     "metadata": {},
     "output_type": "execute_result"
    }
   ],
   "source": [
    "solve_me(5)"
   ]
  },
  {
   "cell_type": "markdown",
   "metadata": {},
   "source": [
    "### Socket Programming"
   ]
  },
  {
   "cell_type": "markdown",
   "metadata": {},
   "source": [
    "**What is a socket ?**"
   ]
  },
  {
   "cell_type": "code",
   "execution_count": 7,
   "metadata": {},
   "outputs": [
    {
     "name": "stdout",
     "output_type": "stream",
     "text": [
      "Overwriting hello.py\n"
     ]
    }
   ],
   "source": [
    "%%writefile hello.py\n",
    "\n",
    "x = 5\n",
    "print(\"Hello world x is 5\")"
   ]
  },
  {
   "cell_type": "code",
   "execution_count": 8,
   "metadata": {},
   "outputs": [
    {
     "name": "stdout",
     "output_type": "stream",
     "text": [
      "Writing bye.py\n"
     ]
    }
   ],
   "source": [
    "%%writefile bye.py\n",
    "\n",
    "print(f\"x from hello is {x}\")"
   ]
  },
  {
   "cell_type": "code",
   "execution_count": 9,
   "metadata": {},
   "outputs": [
    {
     "name": "stdout",
     "output_type": "stream",
     "text": [
      "Hello world x is 5\n"
     ]
    }
   ],
   "source": [
    "!python hello.py"
   ]
  },
  {
   "cell_type": "code",
   "execution_count": 10,
   "metadata": {},
   "outputs": [
    {
     "name": "stderr",
     "output_type": "stream",
     "text": [
      "Traceback (most recent call last):\n",
      "  File \"bye.py\", line 2, in <module>\n",
      "    print(f\"x from hello is {x}\")\n",
      "NameError: name 'x' is not defined\n"
     ]
    }
   ],
   "source": [
    "!python bye.py"
   ]
  },
  {
   "cell_type": "markdown",
   "metadata": {},
   "source": [
    "**Scope Resoultion**"
   ]
  },
  {
   "cell_type": "markdown",
   "metadata": {},
   "source": [
    "Main Space --> gloal space"
   ]
  },
  {
   "cell_type": "code",
   "execution_count": 11,
   "metadata": {},
   "outputs": [],
   "source": [
    "def hello():\n",
    "    x = 5#local\n",
    "    "
   ]
  },
  {
   "cell_type": "code",
   "execution_count": 12,
   "metadata": {},
   "outputs": [],
   "source": [
    "hello()"
   ]
  },
  {
   "cell_type": "code",
   "execution_count": 14,
   "metadata": {},
   "outputs": [
    {
     "ename": "NameError",
     "evalue": "name 'x' is not defined",
     "output_type": "error",
     "traceback": [
      "\u001b[1;31m---------------------------------------------------------------------------\u001b[0m",
      "\u001b[1;31mNameError\u001b[0m                                 Traceback (most recent call last)",
      "\u001b[1;32m<ipython-input-14-6af3c12651e9>\u001b[0m in \u001b[0;36m<module>\u001b[1;34m\u001b[0m\n\u001b[1;32m----> 1\u001b[1;33m \u001b[0mprint\u001b[0m\u001b[1;33m(\u001b[0m\u001b[0mx\u001b[0m\u001b[1;33m)\u001b[0m\u001b[1;31m#global\u001b[0m\u001b[1;33m\u001b[0m\u001b[1;33m\u001b[0m\u001b[0m\n\u001b[0m",
      "\u001b[1;31mNameError\u001b[0m: name 'x' is not defined"
     ]
    }
   ],
   "source": [
    "print(x)#global"
   ]
  },
  {
   "cell_type": "code",
   "execution_count": 15,
   "metadata": {},
   "outputs": [],
   "source": [
    "msg = \"Default\" #global (common interface between all functions)"
   ]
  },
  {
   "cell_type": "code",
   "execution_count": 17,
   "metadata": {},
   "outputs": [],
   "source": [
    "def rajat():\n",
    "    global msg\n",
    "    print(\"current messege: \", msg)\n",
    "    msg = input(\"Rajat's message: \")"
   ]
  },
  {
   "cell_type": "code",
   "execution_count": 18,
   "metadata": {},
   "outputs": [],
   "source": [
    "def sachin():\n",
    "    global msg\n",
    "    print(\"Current message: \", msg)\n",
    "    msg = input(\"sachin's message: \")"
   ]
  },
  {
   "cell_type": "markdown",
   "metadata": {},
   "source": [
    "**Messege passing**"
   ]
  },
  {
   "cell_type": "markdown",
   "metadata": {},
   "source": [
    "**IPC** --> same machine"
   ]
  },
  {
   "cell_type": "markdown",
   "metadata": {},
   "source": [
    "**RPC** --> remote procedure call"
   ]
  },
  {
   "cell_type": "markdown",
   "metadata": {},
   "source": [
    "**Main Project** --> Server"
   ]
  },
  {
   "cell_type": "code",
   "execution_count": 19,
   "metadata": {},
   "outputs": [
    {
     "name": "stdout",
     "output_type": "stream",
     "text": [
      "current messege:  Default\n",
      "Rajat's message: hello sachin how are you\n"
     ]
    }
   ],
   "source": [
    "rajat()"
   ]
  },
  {
   "cell_type": "code",
   "execution_count": 20,
   "metadata": {},
   "outputs": [
    {
     "name": "stdout",
     "output_type": "stream",
     "text": [
      "Current message:  hello sachin how are you\n",
      "sachin's message: i am fine you say\n"
     ]
    }
   ],
   "source": [
    "sachin()"
   ]
  },
  {
   "cell_type": "code",
   "execution_count": 21,
   "metadata": {},
   "outputs": [
    {
     "name": "stdout",
     "output_type": "stream",
     "text": [
      "current messege:  i am fine you say\n",
      "Rajat's message: ha ha ha \n"
     ]
    }
   ],
   "source": [
    "rajat()"
   ]
  },
  {
   "cell_type": "raw",
   "metadata": {},
   "source": [
    "whatsapp\n",
    "\n",
    "instagram\n",
    "                            ip(ISP) --> Internet <--- information\n",
    "telegram\n",
    "\n",
    "facebook"
   ]
  },
  {
   "cell_type": "markdown",
   "metadata": {},
   "source": [
    "    mobile / laptop --> Network Interface Cards (bluetooth, NFS, ethernet card,\n",
    "                                                wifi-card\n",
    "                                                )\n",
    "\n",
    "    digital --> binary ---> server USA\n",
    "\n",
    "    digital --> waveforms (signal) --> transmit --> cabels (90% cabels)\n",
    "    waveforms --> digital \n",
    "    \n",
    "    ADC\n",
    "    \n",
    "    DAC \n",
    "    \n",
    "    \n",
    "    "
   ]
  },
  {
   "cell_type": "markdown",
   "metadata": {},
   "source": [
    "**Network Programming**"
   ]
  },
  {
   "cell_type": "markdown",
   "metadata": {},
   "source": [
    "    Interface Cards --> wifi card, lan card, bluetooth, NFC\n",
    "    \n",
    "    IP address --> Interface Cards (public, private)"
   ]
  },
  {
   "cell_type": "markdown",
   "metadata": {},
   "source": [
    "    rc1 rc2 rc3\n",
    "                         --> routers (ip tables, dhcp(on)) [static ip, fix ip]\n",
    "                                        dynamic host control protocol\n",
    "    rc4 rc5 rc6\n",
    "\n",
    "    ...\n"
   ]
  },
  {
   "cell_type": "markdown",
   "metadata": {},
   "source": [
    "    IPV-4 --> 4 octants\n",
    "\n",
    "    xxxxxxxx.xxxxxxxx.xxxxxxxx.xxxxxxxx  --> 32 bit\n",
    "\n",
    "    subnetting --> networks \n",
    "\n",
    "    ip_addr(different) / network_addr(subnet) (same)\n",
    "\n",
    "    gateway address ---> router (common)\n",
    "\n",
    "    device --> router --> other_device (address)\n",
    "\n",
    "    IPV-6"
   ]
  },
  {
   "cell_type": "markdown",
   "metadata": {},
   "source": [
    "    (client)mobile--> data request -->GateWay --> Router(ISP) --> NAT --> Public Network (Internet) --> request (server)\n",
    "\n",
    "    (client)mobile <---response <-- Router <-- NAT <-- Public Network (Internet) <-- response (server)"
   ]
  },
  {
   "cell_type": "markdown",
   "metadata": {},
   "source": [
    "    facebook.com ---> DNS --> IP"
   ]
  },
  {
   "cell_type": "markdown",
   "metadata": {},
   "source": [
    "    computer2  ip1 (192.168.43.121)\n",
    "                        ---> router(hot spot)\n",
    "    computer1  ip2 (192.168.43.122)"
   ]
  },
  {
   "cell_type": "code",
   "execution_count": 22,
   "metadata": {},
   "outputs": [],
   "source": [
    "import os"
   ]
  },
  {
   "cell_type": "code",
   "execution_count": 23,
   "metadata": {},
   "outputs": [
    {
     "name": "stdout",
     "output_type": "stream",
     "text": [
      "\n",
      "\n",
      "Windows IP Configuration\n",
      "\n",
      "\n",
      "\n",
      "\n",
      "\n",
      "Wireless LAN adapter Local Area Connection* 1:\n",
      "\n",
      "\n",
      "\n",
      "   Media State . . . . . . . . . . . : Media disconnected\n",
      "\n",
      "   Connection-specific DNS Suffix  . : \n",
      "\n",
      "\n",
      "\n",
      "Wireless LAN adapter Local Area Connection* 3:\n",
      "\n",
      "\n",
      "\n",
      "   Media State . . . . . . . . . . . : Media disconnected\n",
      "\n",
      "   Connection-specific DNS Suffix  . : \n",
      "\n",
      "\n",
      "\n",
      "Ethernet adapter VMware Network Adapter VMnet8:\n",
      "\n",
      "\n",
      "\n",
      "   Connection-specific DNS Suffix  . : \n",
      "\n",
      "   Link-local IPv6 Address . . . . . : fe80::2072:bd24:9c71:a204%11\n",
      "\n",
      "   IPv4 Address. . . . . . . . . . . : 172.25.5.1\n",
      "\n",
      "   Subnet Mask . . . . . . . . . . . : 255.255.255.0\n",
      "\n",
      "   Default Gateway . . . . . . . . . : \n",
      "\n",
      "\n",
      "\n",
      "Ethernet adapter Bluetooth Network Connection:\n",
      "\n",
      "\n",
      "\n",
      "   Media State . . . . . . . . . . . : Media disconnected\n",
      "\n",
      "   Connection-specific DNS Suffix  . : \n",
      "\n",
      "\n",
      "\n",
      "Wireless LAN adapter Wi-Fi:\n",
      "\n",
      "\n",
      "\n",
      "   Connection-specific DNS Suffix  . : \n",
      "\n",
      "   IPv6 Address. . . . . . . . . . . : 2401:4900:3057:cacb:84f2:4cce:4cb0:d2c0\n",
      "\n",
      "   Temporary IPv6 Address. . . . . . : 2401:4900:3057:cacb:9d9e:53f8:a761:ce85\n",
      "\n",
      "   Link-local IPv6 Address . . . . . : fe80::84f2:4cce:4cb0:d2c0%6\n",
      "\n",
      "   IPv4 Address. . . . . . . . . . . : 192.168.43.106\n",
      "\n",
      "   Subnet Mask . . . . . . . . . . . : 255.255.255.0\n",
      "\n",
      "   Default Gateway . . . . . . . . . : fe80::c80c:8aff:fe2b:5bf7%6\n",
      "\n",
      "                                       192.168.43.42\n",
      "\n"
     ]
    }
   ],
   "source": [
    "ans = os.popen('ipconfig')\n",
    "for line in ans:\n",
    "    print(line)"
   ]
  },
  {
   "cell_type": "markdown",
   "metadata": {},
   "source": [
    "    IANA <-- Internet --> Countries Sprectrum(Ips) --> ISP"
   ]
  },
  {
   "cell_type": "code",
   "execution_count": 24,
   "metadata": {},
   "outputs": [],
   "source": [
    "ans = os.popen('ping 192.168.43.42')"
   ]
  },
  {
   "cell_type": "code",
   "execution_count": 25,
   "metadata": {},
   "outputs": [
    {
     "name": "stdout",
     "output_type": "stream",
     "text": [
      "\n",
      "\n",
      "Pinging 192.168.43.42 with 32 bytes of data:\n",
      "\n",
      "Reply from 192.168.43.42: bytes=32 time=1ms TTL=64\n",
      "\n",
      "Reply from 192.168.43.42: bytes=32 time=25ms TTL=64\n",
      "\n",
      "Reply from 192.168.43.42: bytes=32 time=19ms TTL=64\n",
      "\n",
      "Reply from 192.168.43.42: bytes=32 time=3ms TTL=64\n",
      "\n",
      "\n",
      "\n",
      "Ping statistics for 192.168.43.42:\n",
      "\n",
      "    Packets: Sent = 4, Received = 4, Lost = 0 (0% loss),\n",
      "\n",
      "Approximate round trip times in milli-seconds:\n",
      "\n",
      "    Minimum = 1ms, Maximum = 25ms, Average = 12ms\n",
      "\n"
     ]
    }
   ],
   "source": [
    "for ping in ans:\n",
    "    print(ping)"
   ]
  },
  {
   "cell_type": "code",
   "execution_count": 27,
   "metadata": {},
   "outputs": [],
   "source": [
    "ans = os.popen('ping facebook.com')"
   ]
  },
  {
   "cell_type": "markdown",
   "metadata": {},
   "source": [
    "    facebook.com --> router --> DNS(8.8.8.8) --> google dns --> ip adrees of facebook --> router --> device ip facebook\n",
    "    \n",
    "    request(http) --> router --> NAT --> facebook --> response --> NAT --> router --> mobile / laptop\n",
    "    \n",
    "    source ip --> self ip address\n",
    "    \n",
    "    destination ip --> server's ip address"
   ]
  },
  {
   "cell_type": "code",
   "execution_count": 28,
   "metadata": {},
   "outputs": [
    {
     "name": "stdout",
     "output_type": "stream",
     "text": [
      "\n",
      "\n",
      "Pinging facebook.com [2a03:2880:f12f:83:face:b00c:0:25de] with 32 bytes of data:\n",
      "\n",
      "Reply from 2a03:2880:f12f:83:face:b00c:0:25de: time=238ms \n",
      "\n",
      "Reply from 2a03:2880:f12f:83:face:b00c:0:25de: time=341ms \n",
      "\n",
      "Reply from 2a03:2880:f12f:83:face:b00c:0:25de: time=270ms \n",
      "\n",
      "Reply from 2a03:2880:f12f:83:face:b00c:0:25de: time=287ms \n",
      "\n",
      "\n",
      "\n",
      "Ping statistics for 2a03:2880:f12f:83:face:b00c:0:25de:\n",
      "\n",
      "    Packets: Sent = 4, Received = 4, Lost = 0 (0% loss),\n",
      "\n",
      "Approximate round trip times in milli-seconds:\n",
      "\n",
      "    Minimum = 238ms, Maximum = 341ms, Average = 284ms\n",
      "\n"
     ]
    }
   ],
   "source": [
    "for ping in ans:\n",
    "    print(ping)"
   ]
  },
  {
   "cell_type": "code",
   "execution_count": 29,
   "metadata": {},
   "outputs": [],
   "source": [
    "import socket "
   ]
  },
  {
   "cell_type": "code",
   "execution_count": 32,
   "metadata": {},
   "outputs": [
    {
     "data": {
      "text/plain": [
       "'127.0.0.1'"
      ]
     },
     "execution_count": 32,
     "metadata": {},
     "output_type": "execute_result"
    }
   ],
   "source": [
    "socket.gethostbyname('localhost')\n",
    "# local machie --> 127.0.0.1 / 8"
   ]
  },
  {
   "cell_type": "code",
   "execution_count": 31,
   "metadata": {},
   "outputs": [
    {
     "data": {
      "text/plain": [
       "'157.240.16.35'"
      ]
     },
     "execution_count": 31,
     "metadata": {},
     "output_type": "execute_result"
    }
   ],
   "source": [
    "socket.gethostbyname('facebook.com')"
   ]
  },
  {
   "cell_type": "code",
   "execution_count": 33,
   "metadata": {},
   "outputs": [
    {
     "data": {
      "text/plain": [
       "('sachin', [], ['127.0.0.1'])"
      ]
     },
     "execution_count": 33,
     "metadata": {},
     "output_type": "execute_result"
    }
   ],
   "source": [
    "socket.gethostbyaddr('127.0.0.1')"
   ]
  },
  {
   "cell_type": "code",
   "execution_count": 34,
   "metadata": {},
   "outputs": [
    {
     "data": {
      "text/plain": [
       "('edge-star-mini-shv-01-bom1.facebook.com', [], ['157.240.16.35'])"
      ]
     },
     "execution_count": 34,
     "metadata": {},
     "output_type": "execute_result"
    }
   ],
   "source": [
    "socket.gethostbyaddr('157.240.16.35')"
   ]
  },
  {
   "cell_type": "code",
   "execution_count": 36,
   "metadata": {},
   "outputs": [
    {
     "data": {
      "text/plain": [
       "('sachin', [], ['2401:4900:3057:cacb:9d9e:53f8:a761:ce85'])"
      ]
     },
     "execution_count": 36,
     "metadata": {},
     "output_type": "execute_result"
    }
   ],
   "source": [
    "socket.gethostbyaddr('2401:4900:3057:cacb:9d9e:53f8:a761:ce85')"
   ]
  },
  {
   "cell_type": "markdown",
   "metadata": {},
   "source": [
    "## Socket Programming"
   ]
  },
  {
   "cell_type": "markdown",
   "metadata": {},
   "source": [
    "Servers\n",
    "\n",
    "    linux --> system admin\n",
    "    \n",
    "        httpd --> Apache, tomcat --> web pages (html)\n",
    "        \n",
    "        ftp, xender --> \n",
    "        \n",
    "        chatting \n",
    "        \n",
    "        DNS\n",
    "        \n",
    "        DHCP\n",
    "        \n",
    "        MAIL"
   ]
  },
  {
   "cell_type": "markdown",
   "metadata": {},
   "source": [
    "    router --> ip addr --> internet --> local devices (private networks)"
   ]
  },
  {
   "cell_type": "code",
   "execution_count": 37,
   "metadata": {},
   "outputs": [
    {
     "data": {
      "text/plain": [
       "'192.168.43.106'"
      ]
     },
     "execution_count": 37,
     "metadata": {},
     "output_type": "execute_result"
    }
   ],
   "source": [
    "socket.gethostbyname('sachin')"
   ]
  },
  {
   "cell_type": "markdown",
   "metadata": {},
   "source": [
    "    facebook                                               facbook server\n",
    "\n",
    "    instagram    192.168.43.106 <--- Router <--- NAT <---  instagram server\n",
    "\n",
    "    whatsapp                                                whatsapp server"
   ]
  },
  {
   "cell_type": "markdown",
   "metadata": {},
   "source": [
    "    ip address --> uniquely identify your machine\n",
    "\n",
    "    192.168.43.106\n",
    "    \n",
    "    facebook --> socket --> (192.168.43.106, 3478)\n",
    "    \n",
    "    instagram --> socket --> (192.168.43.106, 385)\n",
    "   \n",
    "    whatsapp ---> socket ---> (192.168.43.106,59234) \n",
    "    \n",
    "    jupyter-notebook --> socket (127.0.0.1, 8888)"
   ]
  },
  {
   "cell_type": "markdown",
   "metadata": {},
   "source": [
    "    req --> destination ip address, protocol(ports)\n",
    "\n",
    "    resp"
   ]
  },
  {
   "cell_type": "markdown",
   "metadata": {},
   "source": [
    "0 - 65535 "
   ]
  },
  {
   "cell_type": "markdown",
   "metadata": {},
   "source": [
    "    well defined ports \n",
    "\n",
    "\n",
    "        80 --> http (web servers)\n",
    "        \n",
    "        22 --> ssh (remote login)\n",
    "        \n",
    "        25 --> mail severs\n",
    "        \n",
    "        53 --> DNS\n",
    "        \n",
    "        21 --> FTP\n",
    "        \n",
    "        443 --> https\n",
    "        \n",
    "        3306 --> database \n",
    "        "
   ]
  },
  {
   "cell_type": "markdown",
   "metadata": {},
   "source": [
    "    Operating System --> Firewall"
   ]
  },
  {
   "cell_type": "markdown",
   "metadata": {},
   "source": [
    "    ip --> Response --> Firewall --> port 3478 --> facebook --> response --> SHOW"
   ]
  },
  {
   "cell_type": "markdown",
   "metadata": {},
   "source": [
    "**Network layers**"
   ]
  },
  {
   "cell_type": "markdown",
   "metadata": {},
   "source": [
    "socket --> \n",
    "\n",
    "        Type\n",
    "    \n",
    "        Family"
   ]
  },
  {
   "cell_type": "markdown",
   "metadata": {},
   "source": [
    "    UNIX family\n",
    "\n",
    "        AF_INET --> ipv4\n",
    "\n",
    "        AF_INET6 --> ipv6"
   ]
  },
  {
   "cell_type": "markdown",
   "metadata": {},
   "source": [
    "    TCP --> Transmission Control Protocol\n",
    "            3 way handshaking, acknowledgment, reliable connection\n",
    "    \n",
    "    UDP ---> User Data Gram Protocol\n",
    "            "
   ]
  },
  {
   "cell_type": "markdown",
   "metadata": {},
   "source": [
    "    SOCK_STREAM --> TCP\n",
    "\n",
    "    SOCK_DGRAM --> UDP"
   ]
  },
  {
   "cell_type": "code",
   "execution_count": 40,
   "metadata": {},
   "outputs": [],
   "source": [
    "import socket"
   ]
  },
  {
   "cell_type": "code",
   "execution_count": 41,
   "metadata": {},
   "outputs": [
    {
     "data": {
      "text/plain": [
       "('sachin', [], ['127.0.0.1'])"
      ]
     },
     "execution_count": 41,
     "metadata": {},
     "output_type": "execute_result"
    }
   ],
   "source": [
    "socket.gethostbyaddr('127.0.0.1')"
   ]
  },
  {
   "cell_type": "code",
   "execution_count": 42,
   "metadata": {},
   "outputs": [
    {
     "data": {
      "text/plain": [
       "'192.168.43.106'"
      ]
     },
     "execution_count": 42,
     "metadata": {},
     "output_type": "execute_result"
    }
   ],
   "source": [
    "socket.gethostbyname('sachin')"
   ]
  },
  {
   "cell_type": "markdown",
   "metadata": {},
   "source": [
    "    Chat Application\n",
    "\n",
    "    File Sharing"
   ]
  },
  {
   "cell_type": "markdown",
   "metadata": {},
   "source": [
    "    Let's Make an http server"
   ]
  },
  {
   "cell_type": "markdown",
   "metadata": {},
   "source": [
    "    Browers --> http response"
   ]
  },
  {
   "cell_type": "markdown",
   "metadata": {},
   "source": [
    "HTTP protocol \n",
    "\n",
    "    Request\n",
    "    \n",
    "        GET\n",
    "        \n",
    "        POST\n",
    "        \n",
    "        PUT\n",
    "        \n",
    "        DELETE\n",
    "        \n",
    "        UPDATE"
   ]
  },
  {
   "cell_type": "code",
   "execution_count": 43,
   "metadata": {},
   "outputs": [],
   "source": [
    "\n",
    "request = \"\"\"GET / HTTP/1.1\n",
    "Host: developer.mozilla.org\n",
    "Accept-Language: en-us\"\"\""
   ]
  },
  {
   "cell_type": "code",
   "execution_count": 44,
   "metadata": {},
   "outputs": [],
   "source": [
    "s = socket.socket(family=socket.AF_INET, type=socket.SOCK_STREAM)"
   ]
  },
  {
   "cell_type": "code",
   "execution_count": 46,
   "metadata": {},
   "outputs": [
    {
     "name": "stdout",
     "output_type": "stream",
     "text": [
      "<class 'socket.socket'>\n"
     ]
    }
   ],
   "source": [
    "print(type(s))"
   ]
  },
  {
   "cell_type": "code",
   "execution_count": 50,
   "metadata": {},
   "outputs": [],
   "source": [
    "s.connect(('developer.mozilla.org', 80))"
   ]
  },
  {
   "cell_type": "code",
   "execution_count": 51,
   "metadata": {},
   "outputs": [
    {
     "ename": "ConnectionResetError",
     "evalue": "[WinError 10054] An existing connection was forcibly closed by the remote host",
     "output_type": "error",
     "traceback": [
      "\u001b[1;31m---------------------------------------------------------------------------\u001b[0m",
      "\u001b[1;31mConnectionResetError\u001b[0m                      Traceback (most recent call last)",
      "\u001b[1;32m<ipython-input-51-20fb39fac490>\u001b[0m in \u001b[0;36m<module>\u001b[1;34m\u001b[0m\n\u001b[0;32m      1\u001b[0m \u001b[0ms\u001b[0m\u001b[1;33m.\u001b[0m\u001b[0msend\u001b[0m\u001b[1;33m(\u001b[0m\u001b[0mrequest\u001b[0m\u001b[1;33m.\u001b[0m\u001b[0mencode\u001b[0m\u001b[1;33m(\u001b[0m\u001b[1;33m)\u001b[0m\u001b[1;33m)\u001b[0m\u001b[1;33m\u001b[0m\u001b[1;33m\u001b[0m\u001b[0m\n\u001b[1;32m----> 2\u001b[1;33m \u001b[0mrsp\u001b[0m \u001b[1;33m=\u001b[0m \u001b[0ms\u001b[0m\u001b[1;33m.\u001b[0m\u001b[0mrecv\u001b[0m\u001b[1;33m(\u001b[0m\u001b[1;36m2048\u001b[0m\u001b[1;33m)\u001b[0m\u001b[1;33m\u001b[0m\u001b[1;33m\u001b[0m\u001b[0m\n\u001b[0m\u001b[0;32m      3\u001b[0m \u001b[0mprint\u001b[0m\u001b[1;33m(\u001b[0m\u001b[0mrsp\u001b[0m\u001b[1;33m.\u001b[0m\u001b[0mdecode\u001b[0m\u001b[1;33m(\u001b[0m\u001b[1;33m)\u001b[0m\u001b[1;33m)\u001b[0m\u001b[1;33m\u001b[0m\u001b[1;33m\u001b[0m\u001b[0m\n",
      "\u001b[1;31mConnectionResetError\u001b[0m: [WinError 10054] An existing connection was forcibly closed by the remote host"
     ]
    }
   ],
   "source": [
    "s.send(request.encode())\n",
    "rsp = s.recv(2048)\n",
    "print(rsp.decode())\n",
    "s.close()"
   ]
  },
  {
   "cell_type": "markdown",
   "metadata": {},
   "source": [
    "http protocol\n",
    "\n",
    "status code"
   ]
  },
  {
   "cell_type": "code",
   "execution_count": 53,
   "metadata": {},
   "outputs": [],
   "source": [
    "response = \"\"\"HTTP/1.1 200 OK\n",
    "Content-Type: text/html\n",
    "\n",
    "<!DOCTYPE html>\n",
    "<html>\n",
    "    <body>\n",
    "        <h1 style='color:red'>Welcome my Own Web Server</h1>\n",
    "        <h2> here comes the {} bytes of the requested web page</h2>\n",
    "        \n",
    "    </body>\n",
    "</html>\n",
    "\"\"\""
   ]
  },
  {
   "cell_type": "code",
   "execution_count": 54,
   "metadata": {},
   "outputs": [
    {
     "name": "stdout",
     "output_type": "stream",
     "text": [
      "HTTP/1.1 200 OK\n",
      "Content-Type: text/html\n",
      "\n",
      "<!DOCTYPE html>\n",
      "<html>\n",
      "    <body>\n",
      "        <h1 style='color:red'>Welcome my Own Web Server</h1>\n",
      "        <h2> here comes the {} bytes of the requested web page</h2>\n",
      "        \n",
      "    </body>\n",
      "</html>\n",
      "\n"
     ]
    }
   ],
   "source": [
    "print(response)"
   ]
  },
  {
   "cell_type": "code",
   "execution_count": 55,
   "metadata": {},
   "outputs": [
    {
     "name": "stdout",
     "output_type": "stream",
     "text": [
      "Request of Client is :  GET / HTTP/1.1\r\n",
      "Host: 127.0.0.1:12345\r\n",
      "Connection: keep-alive\r\n",
      "Cache-Control: max-age=0\r\n",
      "DNT: 1\r\n",
      "Upgrade-Insecure-Requests: 1\r\n",
      "User-Agent: Mozilla/5.0 (Windows NT 10.0; Win64; x64) AppleWebKit/537.36 (KHTML, like Gecko) Chrome/80.0.3987.149 Safari/537.36\r\n",
      "Sec-Fetch-Dest: document\r\n",
      "Accept: text/html,application/xhtml+xml,application/xml;q=0.9,image/webp,image/apng,*/*;q=0.8,application/signed-exchange;v=b3;q=0.9\r\n",
      "Sec-Fetch-Site: none\r\n",
      "Sec-Fetch-Mode: navigate\r\n",
      "Sec-Fetch-User: ?1\r\n",
      "Accept-Encoding: gzip, deflate, br\r\n",
      "Accept-Language: en-US,en-IN;q=0.9,en;q=0.8,hi-IN;q=0.7,hi;q=0.6\r\n",
      "Cookie: username-127-0-0-1-8888=\"2|1:0|10:1583932092|23:username-127-0-0-1-8888|44:ZDgxNzdjYzI1ODBjNGM3MWExZGI2Y2E2ODYwMjY5YjM=|f889381b5853152fe2323bc2cd9c1d5aa7a0dfe29ce6615d53f1f9e527f5e418\"; session=eyJxdWVzIjo0Mn0.Xn2Z9Q.Q-0g8rQYAPC3uqMN9agXpb5ICmg\r\n",
      "\r\n",
      "\n"
     ]
    }
   ],
   "source": [
    "s = socket.socket()\n",
    "s.bind(('127.0.0.1', 12345)) # socket bind\n",
    "s.listen()\n",
    "\n",
    "client, client_addr = s.accept()\n",
    "print(\"Request of Client is : \", client.recv(1024).decode())\n",
    "client.send(response.encode())\n",
    "client.close()"
   ]
  },
  {
   "cell_type": "code",
   "execution_count": null,
   "metadata": {},
   "outputs": [],
   "source": []
  }
 ],
 "metadata": {
  "kernelspec": {
   "display_name": "Python 3",
   "language": "python",
   "name": "python3"
  },
  "language_info": {
   "codemirror_mode": {
    "name": "ipython",
    "version": 3
   },
   "file_extension": ".py",
   "mimetype": "text/x-python",
   "name": "python",
   "nbconvert_exporter": "python",
   "pygments_lexer": "ipython3",
   "version": "3.7.4"
  }
 },
 "nbformat": 4,
 "nbformat_minor": 2
}
