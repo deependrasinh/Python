{
 "cells": [
  {
   "cell_type": "markdown",
   "metadata": {},
   "source": [
    "**Q.1)  What is Python?What are the benefits of using Python?**\n",
    "\n",
    "**Q.2) How Python is interpreted?**\n",
    "\n",
    "**Q.3) How memory is managed in Python?**\n",
    "\n",
    "**Q.4)  What is the difference between list and tuple?**\n",
    "\n",
    "**Q.5) What is Dict and List comprehensions are?**\n",
    "\n",
    "**Q.6)  What are the built-in type does python provides?**\n",
    "\n",
    "**Q.7) What is namespace in Python?**\n",
    "\n",
    "**Q.8) What is pass in python?**\n",
    "\n",
    "**Q.9) What is slicing in python?**\n",
    "\n",
    "**Q.10) What is docstring in Python?**\n",
    "\n",
    "**Q.11) How can you copy an object in python?**\n",
    "\n",
    "**Q.12) How can you convert a number into a string?**\n",
    "\n",
    "**Q.13)  Explain how can you generate random numbers in Python?**\n",
    "\n",
    "**Q.14) Mention the use of // operator in Python?**\n",
    "\n",
    "**Q.15) Mentions the five benefits of using pyhton?**\n",
    "\n",
    "**Q.16) Mention the use of the split function in Python?**\n",
    "\n",
    "\n",
    "\n"
   ]
  },
  {
   "cell_type": "code",
   "execution_count": null,
   "metadata": {},
   "outputs": [],
   "source": []
  }
 ],
 "metadata": {
  "kernelspec": {
   "display_name": "Python 3",
   "language": "python",
   "name": "python3"
  },
  "language_info": {
   "codemirror_mode": {
    "name": "ipython",
    "version": 3
   },
   "file_extension": ".py",
   "mimetype": "text/x-python",
   "name": "python",
   "nbconvert_exporter": "python",
   "pygments_lexer": "ipython3",
   "version": "3.7.6"
  }
 },
 "nbformat": 4,
 "nbformat_minor": 4
}
