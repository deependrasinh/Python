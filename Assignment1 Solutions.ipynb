{
 "cells": [
  {
   "cell_type": "markdown",
   "metadata": {},
   "source": [
    "**Q.1)  What is Python? What are the benefits of using Python?**\n",
    "\n",
    "**Answer** Python is a programming language with objects, modules, threads, exceptions and automatic memory management. The benefits of pythons are that it is simple and easy, portable, extensible, build-in data structure and it is an open source."
   ]
  },
  {
   "cell_type": "markdown",
   "metadata": {},
   "source": [
    "**Q.2) How Python is interpreted?**\n",
    "\n",
    "**Answer** Python language is an interpreted language. Python program runs directly from the source code. It converts the source code that is written by the programmer into an intermediate language, which is again translated into machine language that has to be executed."
   ]
  },
  {
   "cell_type": "markdown",
   "metadata": {},
   "source": [
    "**Q.3) How memory is managed in Python?**\n",
    "\n",
    "**Answer**\n",
    "\n",
    "* Python memory is managed by Python private heap space. All Python objects and data structures are located in a private heap. The programmer does not have an access to this private heap and interpreter takes care of this Python private heap.\n",
    "\n",
    "\n",
    "* The allocation of Python heap space for Python objects is done by Python memory manager. The core API gives access to some tools for the programmer to code.\n",
    "\n",
    "\n",
    "* Python also have an inbuilt garbage collector, which recycle all the unused memory and frees the memory and makes it available to the heap space."
   ]
  },
  {
   "cell_type": "markdown",
   "metadata": {},
   "source": [
    "**Q.4)  What is the difference between list and tuple?**\n",
    "\n",
    "**Answer** The difference between list and tuple is that list is mutable while tuple is not. Tuple can be hashed for e.g as a key for dictionaries."
   ]
  },
  {
   "cell_type": "markdown",
   "metadata": {},
   "source": [
    "**Q.5) What is Dict and List comprehensions are?**\n",
    "\n",
    "**Answer** They are syntax constructions to ease the creation of a Dictionary or List based on existing iterable."
   ]
  },
  {
   "cell_type": "markdown",
   "metadata": {},
   "source": [
    "**Q.6)  What are the built-in type does python provides?**\n",
    "\n",
    "**Answer**\n",
    "    \n",
    "   **Mutable builtin data types:**\n",
    "                \n",
    "        List\n",
    "        Set\n",
    "        Dictionary\n",
    "                \n",
    "             \n",
    "   **Immutable data types:**\n",
    "                \n",
    "        Strings\n",
    "        Tuples\n",
    "        Numbers\n",
    "                \n",
    "                "
   ]
  },
  {
   "cell_type": "markdown",
   "metadata": {},
   "source": [
    "**Q.7) What is namespace in Python?**\n",
    "\n",
    "**Answer** n Python, every name introduced has a place where it lives and can be hooked for. This is known as namespace. It is like a box where a variable name is mapped to the object placed. Whenever the variable is searched out, this box will be searched, to get corresponding object."
   ]
  },
  {
   "cell_type": "markdown",
   "metadata": {},
   "source": [
    "**Q.8) What is pass in python?**\n",
    "\n",
    "**Answer:** Pass means, no-operation Python statement, or in other words it is a place holder in compound statement, where there should be a blank left and nothing has to be written there."
   ]
  },
  {
   "cell_type": "markdown",
   "metadata": {},
   "source": [
    "**Q.9) What is slicing in python?**\n",
    "\n",
    "**Answer:** A mechanism to select a range of items from sequence types like list, tuple, strings etc. is known as slicing."
   ]
  },
  {
   "cell_type": "markdown",
   "metadata": {},
   "source": [
    "**Q.10) What is docstring in Python?**\n",
    "\n",
    "**Answer:** A Python documentation string is known as docstring, it is a way of documenting Python functions, modules and classes."
   ]
  },
  {
   "cell_type": "markdown",
   "metadata": {},
   "source": [
    "**Q.11) How can you copy an object in python?**\n",
    "\n",
    "**Answer:** To copy an object in Python, you can try copy.copy () or copy.deepcopy() for the general case. You cannot copy all objects but most of them."
   ]
  },
  {
   "cell_type": "markdown",
   "metadata": {},
   "source": [
    "**Q.12) How can you convert a number into a string?**\n",
    "\n",
    "**Answer:** In order to convert a number into a string, use the inbuilt function str(). If you want a octal or hexadecimal representation, use the inbuilt function oct() or hex()."
   ]
  },
  {
   "cell_type": "markdown",
   "metadata": {},
   "source": [
    "**Q.13)  Explain how can you generate random numbers in Python?**\n",
    "\n",
    "**Answer:** To generate random numbers in Python, you need to import command as\n",
    "\n",
    "import random\n",
    "\n",
    "random.random()\n",
    "\n",
    "This returns a random floating point number in the range [0,1)"
   ]
  },
  {
   "cell_type": "markdown",
   "metadata": {},
   "source": [
    "**Q.14) Mention the use of // operator in Python?**\n",
    "\n",
    "**Answer:** It is a Floor Divisionoperator , which is used for dividing two operands with the result as quotient showing only digits before the decimal point. For instance, 10//5 = 2 and 10.0//5.0 = 2.0."
   ]
  },
  {
   "cell_type": "markdown",
   "metadata": {},
   "source": [
    "**Q.15) Mentions the five benefits of using pyhton?**\n",
    "\n",
    "**Answer:** \n",
    "\n",
    "   * Python comprises of a huge standard library for most Internet platforms like Email, HTML, etc.\n",
    "\n",
    "   \n",
    "   * Python does not require explicit memory management as the interpreter itself allocates the memory to new variables         and free them automatically\n",
    "\n",
    "   \n",
    "   * Provide easy readability due to use of square brackets\n",
    "\n",
    "   \n",
    "   * Easy-to-learn for beginners\n",
    "\n",
    "   \n",
    "   * Having the built-in data types saves programming time and effort from declaring variables"
   ]
  },
  {
   "cell_type": "markdown",
   "metadata": {},
   "source": [
    "**Q.16 Mention the use of the split function in Python?**\n",
    "\n",
    "**Answer:** The use of the split function in Python is that it breaks a string into shorter strings using the defined separator. It gives a list of all words present in the string."
   ]
  }
 ],
 "metadata": {
  "kernelspec": {
   "display_name": "Python 3",
   "language": "python",
   "name": "python3"
  },
  "language_info": {
   "codemirror_mode": {
    "name": "ipython",
    "version": 3
   },
   "file_extension": ".py",
   "mimetype": "text/x-python",
   "name": "python",
   "nbconvert_exporter": "python",
   "pygments_lexer": "ipython3",
   "version": "3.7.6"
  }
 },
 "nbformat": 4,
 "nbformat_minor": 4
}
