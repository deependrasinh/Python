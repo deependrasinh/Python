{
 "cells": [
  {
   "cell_type": "markdown",
   "metadata": {},
   "source": [
    "**Q.1)  What are Python decorators?**\n",
    "\n",
    "**Q.2) What is lambda in python?**\n",
    "\n",
    "**Q.3) What is unit test in python?**\n",
    "\n",
    "**Q.4)  How are arguments passed by value or by reference?**\n",
    "\n",
    "**Q.5) Why lambda forms in python does not have statements?**\n",
    "\n",
    "**Q.6) What is the difference between Xrange and range?**\n",
    "\n",
    "**Q.7) Mention what are the rules for local and global variables in Python?**\n",
    "\n",
    "**Q.8) How can you share global variables across modules?**\n",
    "\n",
    "**Q.9) Explain how to delete a file in Python?**\n",
    "\n",
    "**Q.10) What is negative index in python?**\n"
   ]
  }
 ],
 "metadata": {
  "kernelspec": {
   "display_name": "Python 3",
   "language": "python",
   "name": "python3"
  },
  "language_info": {
   "codemirror_mode": {
    "name": "ipython",
    "version": 3
   },
   "file_extension": ".py",
   "mimetype": "text/x-python",
   "name": "python",
   "nbconvert_exporter": "python",
   "pygments_lexer": "ipython3",
   "version": "3.7.6"
  }
 },
 "nbformat": 4,
 "nbformat_minor": 4
}
