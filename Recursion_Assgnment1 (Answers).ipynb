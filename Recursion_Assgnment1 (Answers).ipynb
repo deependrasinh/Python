{
 "cells": [
  {
   "cell_type": "markdown",
   "metadata": {},
   "source": [
    "**Q.1) Which is the most appropriate definition for recursion?**\n",
    "\n",
    "**Answer** Answer is (B)\n",
    "\n",
    "The appropriate definition for a recursive function is a function execution instance that calls another execution instance of the same function either directly or indirectly."
   ]
  },
  {
   "cell_type": "markdown",
   "metadata": {},
   "source": [
    "**Q.2) Only problems that are recursively defined can be solved using recursion.**\n",
    "\n",
    "**Answer** Answer is (B)\n",
    "\n",
    "There are many other problems can also be solved using recursion."
   ]
  },
  {
   "cell_type": "markdown",
   "metadata": {},
   "source": [
    "**Q.3) Which of these is false about recursion?**\n",
    "\n",
    "**Answer** Answer is (C)\n",
    " \n",
    "The speed of a program using recursion is slower than the speed of its non-recursive equivalent."
   ]
  },
  {
   "cell_type": "markdown",
   "metadata": {},
   "source": [
    "**Q.4)  Fill in the line of the following Python code for calculating the factorial of a number.**\n",
    "\n",
    "**Answer** Answer is (A)\n",
    "\n",
    "Suppose n=5 then, 5*4*3*2*1 is returned which is the factorial of 5."
   ]
  },
  {
   "cell_type": "markdown",
   "metadata": {},
   "source": [
    "**Q.5) What will be the output of the following Python code?**\n",
    "\n",
    "**Answer** Answer is (D)\n",
    "\n",
    "The test(i-1,i+j) part of the function keeps calling the function until the base condition of the function is satisfied.\n"
   ]
  },
  {
   "cell_type": "markdown",
   "metadata": {},
   "source": [
    "**Q.6) What will be the output of the following Python code?**\n",
    "\n",
    "**Answer** Answer is (B)"
   ]
  },
  {
   "cell_type": "markdown",
   "metadata": {},
   "source": [
    "**Q.7) What is the tail recursion?**\n",
    "\n",
    "**Answer** Answer is (D)\n",
    "\n",
    "A recursive function is tail recursive when recursive call is executed by the function in the last."
   ]
  },
  {
   "cell_type": "markdown",
   "metadata": {},
   "source": [
    "**Q.8) Observe the following python code?**\n",
    "\n",
    "**Answer** Answer is (C)\n",
    "\n",
    "A recursive function is tail recursive when recursive call is executed by the function in the last."
   ]
  },
  {
   "cell_type": "markdown",
   "metadata": {},
   "source": [
    "**Q.9) Which of the following statements is false about recursion?**\n",
    "\n",
    "**Answer** Answer is (D)\n",
    "\n",
    " A recursive function needn’t have a return value."
   ]
  },
  {
   "cell_type": "markdown",
   "metadata": {},
   "source": [
    "**Q.10) What will be the output of the following Python code?**\n",
    "\n",
    "**Answer** Answer is (B)\n",
    "\n",
    "The fun(fun(n+11)) part of the code keeps executing until the value of n becomes greater than 100, after which n-5 is returned and printed."
   ]
  },
  {
   "cell_type": "markdown",
   "metadata": {},
   "source": [
    "**Q.11) Recursion and iteration are the same programming approach.**\n",
    "\n",
    "**Answer** Answer is (B)\n",
    "\n",
    "In recursion, the function calls itself till the base condition is reached whereas iteration means repetition of process for example in for-loops."
   ]
  },
  {
   "cell_type": "markdown",
   "metadata": {},
   "source": [
    "**Q.12) What happens if the base condition isn’t defined in recursive programs?**\n",
    "\n",
    "**Answer** Answer is (A)\n",
    "\n",
    "The program will run until the system gets out of memory."
   ]
  },
  {
   "cell_type": "markdown",
   "metadata": {},
   "source": [
    "**Q.13)  Which of these is not true about recursion?**\n",
    "\n",
    "**Answer** Answer is (C)\n",
    "\n",
    "Recursive calls take up a lot of memory and time as memory is taken up each time the function is called."
   ]
  },
  {
   "cell_type": "markdown",
   "metadata": {},
   "source": [
    "**Q.14) Which of these is not true about recursion?**\n",
    "\n",
    "**Answer** Answer is (B)\n",
    "\n",
    "Recursive functions may be hard to debug as the logic behind recursion may be hard to follow.?"
   ]
  },
  {
   "cell_type": "markdown",
   "metadata": {},
   "source": [
    "**Q.15)  What will be the output of the following Python code?**\n",
    "\n",
    "**Answer** Answer is (D)\n",
    "\n",
    "The above piece of code prints the Fibonacci series."
   ]
  },
  {
   "cell_type": "code",
   "execution_count": null,
   "metadata": {},
   "outputs": [],
   "source": []
  }
 ],
 "metadata": {
  "kernelspec": {
   "display_name": "Python 3",
   "language": "python",
   "name": "python3"
  },
  "language_info": {
   "codemirror_mode": {
    "name": "ipython",
    "version": 3
   },
   "file_extension": ".py",
   "mimetype": "text/x-python",
   "name": "python",
   "nbconvert_exporter": "python",
   "pygments_lexer": "ipython3",
   "version": "3.7.6"
  }
 },
 "nbformat": 4,
 "nbformat_minor": 4
}
